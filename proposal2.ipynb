{
 "cells": [
  {
   "cell_type": "code",
   "execution_count": 103,
   "metadata": {},
   "outputs": [],
   "source": [
    "library(tidyverse)\n",
    "library(repr)\n",
    "library(tidymodels)\n",
    "options(repr.matrix.max.rows = 6)"
   ]
  },
  {
   "cell_type": "markdown",
   "metadata": {},
   "source": [
    "Data set: https://archive.ics.uci.edu/ml/datasets/Heart+Disease"
   ]
  },
  {
   "cell_type": "code",
   "execution_count": 104,
   "metadata": {},
   "outputs": [
    {
     "name": "stderr",
     "output_type": "stream",
     "text": [
      "Parsed with column specification:\n",
      "cols(\n",
      "  age = \u001b[32mcol_double()\u001b[39m,\n",
      "  sex = \u001b[32mcol_double()\u001b[39m,\n",
      "  cp = \u001b[32mcol_double()\u001b[39m,\n",
      "  trestbps = \u001b[32mcol_double()\u001b[39m,\n",
      "  chol = \u001b[32mcol_double()\u001b[39m,\n",
      "  fbs = \u001b[32mcol_double()\u001b[39m,\n",
      "  restecg = \u001b[32mcol_double()\u001b[39m,\n",
      "  thalach = \u001b[32mcol_double()\u001b[39m,\n",
      "  exang = \u001b[32mcol_double()\u001b[39m,\n",
      "  oldpeak = \u001b[32mcol_double()\u001b[39m,\n",
      "  slope = \u001b[32mcol_double()\u001b[39m,\n",
      "  ca = \u001b[31mcol_character()\u001b[39m,\n",
      "  thal = \u001b[31mcol_character()\u001b[39m,\n",
      "  num = \u001b[32mcol_double()\u001b[39m\n",
      ")\n",
      "\n"
     ]
    },
    {
     "data": {
      "text/html": [
       "<table>\n",
       "<caption>A spec_tbl_df: 303 × 14</caption>\n",
       "<thead>\n",
       "\t<tr><th scope=col>age</th><th scope=col>sex</th><th scope=col>cp</th><th scope=col>trestbps</th><th scope=col>chol</th><th scope=col>fbs</th><th scope=col>restecg</th><th scope=col>thalach</th><th scope=col>exang</th><th scope=col>oldpeak</th><th scope=col>slope</th><th scope=col>ca</th><th scope=col>thal</th><th scope=col>num</th></tr>\n",
       "\t<tr><th scope=col>&lt;dbl&gt;</th><th scope=col>&lt;dbl&gt;</th><th scope=col>&lt;dbl&gt;</th><th scope=col>&lt;dbl&gt;</th><th scope=col>&lt;dbl&gt;</th><th scope=col>&lt;dbl&gt;</th><th scope=col>&lt;dbl&gt;</th><th scope=col>&lt;dbl&gt;</th><th scope=col>&lt;dbl&gt;</th><th scope=col>&lt;dbl&gt;</th><th scope=col>&lt;dbl&gt;</th><th scope=col>&lt;chr&gt;</th><th scope=col>&lt;chr&gt;</th><th scope=col>&lt;dbl&gt;</th></tr>\n",
       "</thead>\n",
       "<tbody>\n",
       "\t<tr><td>63</td><td>1</td><td>1</td><td>145</td><td>233</td><td>1</td><td>2</td><td>150</td><td>0</td><td>2.3</td><td>3</td><td>0.0</td><td>6.0</td><td>0</td></tr>\n",
       "\t<tr><td>67</td><td>1</td><td>4</td><td>160</td><td>286</td><td>0</td><td>2</td><td>108</td><td>1</td><td>1.5</td><td>2</td><td>3.0</td><td>3.0</td><td>2</td></tr>\n",
       "\t<tr><td>67</td><td>1</td><td>4</td><td>120</td><td>229</td><td>0</td><td>2</td><td>129</td><td>1</td><td>2.6</td><td>2</td><td>2.0</td><td>7.0</td><td>1</td></tr>\n",
       "\t<tr><td>⋮</td><td>⋮</td><td>⋮</td><td>⋮</td><td>⋮</td><td>⋮</td><td>⋮</td><td>⋮</td><td>⋮</td><td>⋮</td><td>⋮</td><td>⋮</td><td>⋮</td><td>⋮</td></tr>\n",
       "\t<tr><td>57</td><td>1</td><td>4</td><td>130</td><td>131</td><td>0</td><td>0</td><td>115</td><td>1</td><td>1.2</td><td>2</td><td>1.0</td><td>7.0</td><td>3</td></tr>\n",
       "\t<tr><td>57</td><td>0</td><td>2</td><td>130</td><td>236</td><td>0</td><td>2</td><td>174</td><td>0</td><td>0.0</td><td>2</td><td>1.0</td><td>3.0</td><td>1</td></tr>\n",
       "\t<tr><td>38</td><td>1</td><td>3</td><td>138</td><td>175</td><td>0</td><td>0</td><td>173</td><td>0</td><td>0.0</td><td>1</td><td>?  </td><td>3.0</td><td>0</td></tr>\n",
       "</tbody>\n",
       "</table>\n"
      ],
      "text/latex": [
       "A spec\\_tbl\\_df: 303 × 14\n",
       "\\begin{tabular}{llllllllllllll}\n",
       " age & sex & cp & trestbps & chol & fbs & restecg & thalach & exang & oldpeak & slope & ca & thal & num\\\\\n",
       " <dbl> & <dbl> & <dbl> & <dbl> & <dbl> & <dbl> & <dbl> & <dbl> & <dbl> & <dbl> & <dbl> & <chr> & <chr> & <dbl>\\\\\n",
       "\\hline\n",
       "\t 63 & 1 & 1 & 145 & 233 & 1 & 2 & 150 & 0 & 2.3 & 3 & 0.0 & 6.0 & 0\\\\\n",
       "\t 67 & 1 & 4 & 160 & 286 & 0 & 2 & 108 & 1 & 1.5 & 2 & 3.0 & 3.0 & 2\\\\\n",
       "\t 67 & 1 & 4 & 120 & 229 & 0 & 2 & 129 & 1 & 2.6 & 2 & 2.0 & 7.0 & 1\\\\\n",
       "\t ⋮ & ⋮ & ⋮ & ⋮ & ⋮ & ⋮ & ⋮ & ⋮ & ⋮ & ⋮ & ⋮ & ⋮ & ⋮ & ⋮\\\\\n",
       "\t 57 & 1 & 4 & 130 & 131 & 0 & 0 & 115 & 1 & 1.2 & 2 & 1.0 & 7.0 & 3\\\\\n",
       "\t 57 & 0 & 2 & 130 & 236 & 0 & 2 & 174 & 0 & 0.0 & 2 & 1.0 & 3.0 & 1\\\\\n",
       "\t 38 & 1 & 3 & 138 & 175 & 0 & 0 & 173 & 0 & 0.0 & 1 & ?   & 3.0 & 0\\\\\n",
       "\\end{tabular}\n"
      ],
      "text/markdown": [
       "\n",
       "A spec_tbl_df: 303 × 14\n",
       "\n",
       "| age &lt;dbl&gt; | sex &lt;dbl&gt; | cp &lt;dbl&gt; | trestbps &lt;dbl&gt; | chol &lt;dbl&gt; | fbs &lt;dbl&gt; | restecg &lt;dbl&gt; | thalach &lt;dbl&gt; | exang &lt;dbl&gt; | oldpeak &lt;dbl&gt; | slope &lt;dbl&gt; | ca &lt;chr&gt; | thal &lt;chr&gt; | num &lt;dbl&gt; |\n",
       "|---|---|---|---|---|---|---|---|---|---|---|---|---|---|\n",
       "| 63 | 1 | 1 | 145 | 233 | 1 | 2 | 150 | 0 | 2.3 | 3 | 0.0 | 6.0 | 0 |\n",
       "| 67 | 1 | 4 | 160 | 286 | 0 | 2 | 108 | 1 | 1.5 | 2 | 3.0 | 3.0 | 2 |\n",
       "| 67 | 1 | 4 | 120 | 229 | 0 | 2 | 129 | 1 | 2.6 | 2 | 2.0 | 7.0 | 1 |\n",
       "| ⋮ | ⋮ | ⋮ | ⋮ | ⋮ | ⋮ | ⋮ | ⋮ | ⋮ | ⋮ | ⋮ | ⋮ | ⋮ | ⋮ |\n",
       "| 57 | 1 | 4 | 130 | 131 | 0 | 0 | 115 | 1 | 1.2 | 2 | 1.0 | 7.0 | 3 |\n",
       "| 57 | 0 | 2 | 130 | 236 | 0 | 2 | 174 | 0 | 0.0 | 2 | 1.0 | 3.0 | 1 |\n",
       "| 38 | 1 | 3 | 138 | 175 | 0 | 0 | 173 | 0 | 0.0 | 1 | ?   | 3.0 | 0 |\n",
       "\n"
      ],
      "text/plain": [
       "    age sex cp trestbps chol fbs restecg thalach exang oldpeak slope ca  thal\n",
       "1   63  1   1  145      233  1   2       150     0     2.3     3     0.0 6.0 \n",
       "2   67  1   4  160      286  0   2       108     1     1.5     2     3.0 3.0 \n",
       "3   67  1   4  120      229  0   2       129     1     2.6     2     2.0 7.0 \n",
       "⋮   ⋮   ⋮   ⋮  ⋮        ⋮    ⋮   ⋮       ⋮       ⋮     ⋮       ⋮     ⋮   ⋮   \n",
       "301 57  1   4  130      131  0   0       115     1     1.2     2     1.0 7.0 \n",
       "302 57  0   2  130      236  0   2       174     0     0.0     2     1.0 3.0 \n",
       "303 38  1   3  138      175  0   0       173     0     0.0     1     ?   3.0 \n",
       "    num\n",
       "1   0  \n",
       "2   2  \n",
       "3   1  \n",
       "⋮   ⋮  \n",
       "301 3  \n",
       "302 1  \n",
       "303 0  "
      ]
     },
     "metadata": {},
     "output_type": "display_data"
    }
   ],
   "source": [
    "# Load the dataset\n",
    "url <- \"https://archive.ics.uci.edu/ml/machine-learning-databases/heart-disease/processed.cleveland.data\"\n",
    "names <- c(\"age\", \"sex\", \"cp\", \"trestbps\", \"chol\", \"fbs\", \"restecg\", \"thalach\", \"exang\", \"oldpeak\", \"slope\", \"ca\", \"thal\", \"num\")\n",
    "data_raw <- read_csv(url, col_names = names)\n",
    "data_raw"
   ]
  },
  {
   "cell_type": "code",
   "execution_count": 105,
   "metadata": {},
   "outputs": [],
   "source": [
    "# DESCRIPTION OF VARIABLES\n",
    "# age, in years\n",
    "# sex (1 = male; 0 = female)\n",
    "# cp: chest pain type\n",
    "#     -- Value 1: typical angina\n",
    "#     -- Value 2: atypical angina\n",
    "#     -- Value 3: non-anginal pain\n",
    "#     -- Value 4: asymptomatic\n",
    "# trestbps: resting blood pressure (in mm Hg on admission to the hospital)\n",
    "# chol: serum cholestoral in mg/dl\n",
    "# fbs: (fasting blood sugar > 120 mg/dl)  (1 = true; 0 = false)\n",
    "# restecg: resting electrocardiographic results\n",
    "#     -- Value 0: normal\n",
    "#     -- Value 1: having ST-T wave abnormality (T wave inversions and/or ST \n",
    "#                 elevation or depression of > 0.05 mV)\n",
    "#     -- Value 2: showing probable or definite left ventricular hypertrophy\n",
    "#                 by Estes' criteria\n",
    "# thalach: maximum heart rate achieved\n",
    "# exang: exercise induced angina (1 = yes; 0 = no)\n",
    "# oldpeak = ST depression induced by exercise relative to rest\n",
    "# slope: the slope of the peak exercise ST segment\n",
    "#     -- Value 1: upsloping\n",
    "#     -- Value 2: flat\n",
    "#     -- Value 3: downsloping\n",
    "# ca: number of major vessels (0-3) colored by flourosopy\n",
    "# thal: 3 = normal; 6 = fixed defect; 7 = reversable defect\n",
    "# num: diagnosis of heart disease (angiographic disease status)\n",
    "#     -- Value 0: < 50% diameter narrowing\n",
    "#     -- Value 1: > 50% diameter narrowing"
   ]
  },
  {
   "cell_type": "code",
   "execution_count": 106,
   "metadata": {},
   "outputs": [],
   "source": [
    "# Possible predictors:\n",
    "#  - chol (serum cholesterol)\n",
    "#  - trestbps (resting blood pressure)\n",
    "#  - age\n",
    "#  - thalach (maximum heart rate)\n",
    "# Possible target variable:\n",
    "#  - cp (chest pain type)\n",
    "#  - num (diagnosis of heart disease)\n",
    "# angina is chest pain or discomfort caused by a lack of oxygen rich blood"
   ]
  },
  {
   "cell_type": "code",
   "execution_count": 107,
   "metadata": {},
   "outputs": [
    {
     "data": {
      "text/html": [
       "<table>\n",
       "<caption>A tibble: 303 × 6</caption>\n",
       "<thead>\n",
       "\t<tr><th scope=col>age</th><th scope=col>cp</th><th scope=col>trestbps</th><th scope=col>thalach</th><th scope=col>chol</th><th scope=col>num</th></tr>\n",
       "\t<tr><th scope=col>&lt;dbl&gt;</th><th scope=col>&lt;fct&gt;</th><th scope=col>&lt;dbl&gt;</th><th scope=col>&lt;dbl&gt;</th><th scope=col>&lt;dbl&gt;</th><th scope=col>&lt;fct&gt;</th></tr>\n",
       "</thead>\n",
       "<tbody>\n",
       "\t<tr><td>63</td><td>1</td><td>145</td><td>150</td><td>233</td><td>0</td></tr>\n",
       "\t<tr><td>67</td><td>4</td><td>160</td><td>108</td><td>286</td><td>2</td></tr>\n",
       "\t<tr><td>67</td><td>4</td><td>120</td><td>129</td><td>229</td><td>1</td></tr>\n",
       "\t<tr><td>⋮</td><td>⋮</td><td>⋮</td><td>⋮</td><td>⋮</td><td>⋮</td></tr>\n",
       "\t<tr><td>57</td><td>4</td><td>130</td><td>115</td><td>131</td><td>3</td></tr>\n",
       "\t<tr><td>57</td><td>2</td><td>130</td><td>174</td><td>236</td><td>1</td></tr>\n",
       "\t<tr><td>38</td><td>3</td><td>138</td><td>173</td><td>175</td><td>0</td></tr>\n",
       "</tbody>\n",
       "</table>\n"
      ],
      "text/latex": [
       "A tibble: 303 × 6\n",
       "\\begin{tabular}{llllll}\n",
       " age & cp & trestbps & thalach & chol & num\\\\\n",
       " <dbl> & <fct> & <dbl> & <dbl> & <dbl> & <fct>\\\\\n",
       "\\hline\n",
       "\t 63 & 1 & 145 & 150 & 233 & 0\\\\\n",
       "\t 67 & 4 & 160 & 108 & 286 & 2\\\\\n",
       "\t 67 & 4 & 120 & 129 & 229 & 1\\\\\n",
       "\t ⋮ & ⋮ & ⋮ & ⋮ & ⋮ & ⋮\\\\\n",
       "\t 57 & 4 & 130 & 115 & 131 & 3\\\\\n",
       "\t 57 & 2 & 130 & 174 & 236 & 1\\\\\n",
       "\t 38 & 3 & 138 & 173 & 175 & 0\\\\\n",
       "\\end{tabular}\n"
      ],
      "text/markdown": [
       "\n",
       "A tibble: 303 × 6\n",
       "\n",
       "| age &lt;dbl&gt; | cp &lt;fct&gt; | trestbps &lt;dbl&gt; | thalach &lt;dbl&gt; | chol &lt;dbl&gt; | num &lt;fct&gt; |\n",
       "|---|---|---|---|---|---|\n",
       "| 63 | 1 | 145 | 150 | 233 | 0 |\n",
       "| 67 | 4 | 160 | 108 | 286 | 2 |\n",
       "| 67 | 4 | 120 | 129 | 229 | 1 |\n",
       "| ⋮ | ⋮ | ⋮ | ⋮ | ⋮ | ⋮ |\n",
       "| 57 | 4 | 130 | 115 | 131 | 3 |\n",
       "| 57 | 2 | 130 | 174 | 236 | 1 |\n",
       "| 38 | 3 | 138 | 173 | 175 | 0 |\n",
       "\n"
      ],
      "text/plain": [
       "    age cp trestbps thalach chol num\n",
       "1   63  1  145      150     233  0  \n",
       "2   67  4  160      108     286  2  \n",
       "3   67  4  120      129     229  1  \n",
       "⋮   ⋮   ⋮  ⋮        ⋮       ⋮    ⋮  \n",
       "301 57  4  130      115     131  3  \n",
       "302 57  2  130      174     236  1  \n",
       "303 38  3  138      173     175  0  "
      ]
     },
     "metadata": {},
     "output_type": "display_data"
    }
   ],
   "source": [
    "# Wrangle data\n",
    "data <- data_raw %>%\n",
    "    select(c(\"age\", \"cp\", \"trestbps\", \"thalach\", \"chol\", \"num\")) %>% # select only columns that are used\n",
    "    mutate(cp = as_factor(cp), # update target variables to factor\n",
    "          num = as_factor(num)) \n",
    "data"
   ]
  },
  {
   "cell_type": "code",
   "execution_count": 108,
   "metadata": {},
   "outputs": [
    {
     "data": {
      "text/html": [
       "<table>\n",
       "<caption>A tibble: 303 × 6</caption>\n",
       "<thead>\n",
       "\t<tr><th scope=col>age</th><th scope=col>cp</th><th scope=col>trestbps</th><th scope=col>thalach</th><th scope=col>chol</th><th scope=col>num</th></tr>\n",
       "\t<tr><th scope=col>&lt;dbl&gt;</th><th scope=col>&lt;fct&gt;</th><th scope=col>&lt;dbl&gt;</th><th scope=col>&lt;dbl&gt;</th><th scope=col>&lt;dbl&gt;</th><th scope=col>&lt;fct&gt;</th></tr>\n",
       "</thead>\n",
       "<tbody>\n",
       "\t<tr><td>63</td><td>1</td><td>145</td><td>150</td><td>233</td><td>0</td></tr>\n",
       "\t<tr><td>67</td><td>4</td><td>160</td><td>108</td><td>286</td><td>1</td></tr>\n",
       "\t<tr><td>67</td><td>4</td><td>120</td><td>129</td><td>229</td><td>1</td></tr>\n",
       "\t<tr><td>⋮</td><td>⋮</td><td>⋮</td><td>⋮</td><td>⋮</td><td>⋮</td></tr>\n",
       "\t<tr><td>57</td><td>4</td><td>130</td><td>115</td><td>131</td><td>1</td></tr>\n",
       "\t<tr><td>57</td><td>2</td><td>130</td><td>174</td><td>236</td><td>1</td></tr>\n",
       "\t<tr><td>38</td><td>3</td><td>138</td><td>173</td><td>175</td><td>0</td></tr>\n",
       "</tbody>\n",
       "</table>\n"
      ],
      "text/latex": [
       "A tibble: 303 × 6\n",
       "\\begin{tabular}{llllll}\n",
       " age & cp & trestbps & thalach & chol & num\\\\\n",
       " <dbl> & <fct> & <dbl> & <dbl> & <dbl> & <fct>\\\\\n",
       "\\hline\n",
       "\t 63 & 1 & 145 & 150 & 233 & 0\\\\\n",
       "\t 67 & 4 & 160 & 108 & 286 & 1\\\\\n",
       "\t 67 & 4 & 120 & 129 & 229 & 1\\\\\n",
       "\t ⋮ & ⋮ & ⋮ & ⋮ & ⋮ & ⋮\\\\\n",
       "\t 57 & 4 & 130 & 115 & 131 & 1\\\\\n",
       "\t 57 & 2 & 130 & 174 & 236 & 1\\\\\n",
       "\t 38 & 3 & 138 & 173 & 175 & 0\\\\\n",
       "\\end{tabular}\n"
      ],
      "text/markdown": [
       "\n",
       "A tibble: 303 × 6\n",
       "\n",
       "| age &lt;dbl&gt; | cp &lt;fct&gt; | trestbps &lt;dbl&gt; | thalach &lt;dbl&gt; | chol &lt;dbl&gt; | num &lt;fct&gt; |\n",
       "|---|---|---|---|---|---|\n",
       "| 63 | 1 | 145 | 150 | 233 | 0 |\n",
       "| 67 | 4 | 160 | 108 | 286 | 1 |\n",
       "| 67 | 4 | 120 | 129 | 229 | 1 |\n",
       "| ⋮ | ⋮ | ⋮ | ⋮ | ⋮ | ⋮ |\n",
       "| 57 | 4 | 130 | 115 | 131 | 1 |\n",
       "| 57 | 2 | 130 | 174 | 236 | 1 |\n",
       "| 38 | 3 | 138 | 173 | 175 | 0 |\n",
       "\n"
      ],
      "text/plain": [
       "    age cp trestbps thalach chol num\n",
       "1   63  1  145      150     233  0  \n",
       "2   67  4  160      108     286  1  \n",
       "3   67  4  120      129     229  1  \n",
       "⋮   ⋮   ⋮  ⋮        ⋮       ⋮    ⋮  \n",
       "301 57  4  130      115     131  1  \n",
       "302 57  2  130      174     236  1  \n",
       "303 38  3  138      173     175  0  "
      ]
     },
     "metadata": {},
     "output_type": "display_data"
    }
   ],
   "source": [
    "# Experiment: use only two target variable classes\n",
    "# classify num to either 0 (no visible heart disease) or 1-4 (mild heart disease to very severe)\n",
    "data_exp <- data %>%\n",
    "    mutate(num = as_factor(ifelse(num == 0, 0, 1)))\n",
    "data_exp\n",
    "data <- data_exp\n",
    "# for cp, can classify as either 0-1 (no angina) or 2-3 (angina)"
   ]
  },
  {
   "cell_type": "code",
   "execution_count": 109,
   "metadata": {},
   "outputs": [],
   "source": [
    "# Split into training data and testing data\n",
    "set.seed(1) # set the seed\n",
    "\n",
    "heart_split = initial_split(data, prop = 0.75, strata = num)\n",
    "heart_training = training(data_split)\n",
    "heart_testing = testing(data_split)"
   ]
  },
  {
   "cell_type": "markdown",
   "metadata": {},
   "source": [
    "## Preliminary Exploratory Data Analysis"
   ]
  },
  {
   "cell_type": "code",
   "execution_count": 110,
   "metadata": {},
   "outputs": [
    {
     "data": {
      "image/png": "[encoded data removed]",
      "text/plain": [
       "plot without title"
      ]
     },
     "metadata": {
      "image/png": {
       "height": 420,
       "width": 420
      }
     },
     "output_type": "display_data"
    },
    {
     "data": {
      "image/png": "[encoded data removed]",
      "text/plain": [
       "plot without title"
      ]
     },
     "metadata": {
      "image/png": {
       "height": 420,
       "width": 420
      }
     },
     "output_type": "display_data"
    },
    {
     "data": {
      "image/png": "[encoded data removed]",
      "text/plain": [
       "plot without title"
      ]
     },
     "metadata": {
      "image/png": {
       "height": 420,
       "width": 420
      }
     },
     "output_type": "display_data"
    },
    {
     "data": {
      "image/png": "[encoded data removed]",
      "text/plain": [
       "plot without title"
      ]
     },
     "metadata": {
      "image/png": {
       "height": 420,
       "width": 420
      }
     },
     "output_type": "display_data"
    }
   ],
   "source": [
    "# Histograms for numerical predictor variables\n",
    "bins_num = ceiling(log(nrow(data),2))+1 # number of bins, by Sturges' formula\n",
    "theme_set(theme_grey())\n",
    "target_var = data_training$num # target variable, to split up histograms by (data$num or data$cp)\n",
    "\n",
    "ggplot(heart_training, aes(x = age, fill = target_var)) +\n",
    "    geom_histogram(bins = bins_num) +\n",
    "    facet_grid(rows = target_var)\n",
    "ggplot(heart_training, aes(x = trestbps, fill = target_var)) +\n",
    "    geom_histogram(bins = bins_num) +\n",
    "    facet_grid(rows = target_var)\n",
    "ggplot(heart_training, aes(x = thalach, fill = target_var)) +\n",
    "    geom_histogram(bins = bins_num) +\n",
    "    facet_grid(rows = target_var)\n",
    "ggplot(heart_training, aes(x = chol, fill = target_var)) +\n",
    "    geom_histogram(bins = bins_num) +\n",
    "    facet_grid(rows = target_var)"
   ]
  },
  {
   "cell_type": "code",
   "execution_count": 111,
   "metadata": {},
   "outputs": [
    {
     "data": {
      "image/png": "[encoded data removed]",
      "text/plain": [
       "plot without title"
      ]
     },
     "metadata": {
      "image/png": {
       "height": 420,
       "width": 420
      }
     },
     "output_type": "display_data"
    },
    {
     "data": {
      "image/png": "[encoded data removed]",
      "text/plain": [
       "plot without title"
      ]
     },
     "metadata": {
      "image/png": {
       "height": 420,
       "width": 420
      }
     },
     "output_type": "display_data"
    }
   ],
   "source": [
    "# Bar plots for (potential) target variables\n",
    "ggplot(data, aes(x = num)) +\n",
    "    geom_bar() +\n",
    "    xlab(\"Diagnosis of Heart Disease\") +\n",
    "    ylab(\"Number of People\")\n",
    "ggplot(data, aes(x = cp)) +\n",
    "    geom_bar() +\n",
    "    xlab(\"Type of Chest Pain\") +\n",
    "    ylab(\"Number of People\")"
   ]
  },
  {
   "cell_type": "code",
   "execution_count": 112,
   "metadata": {},
   "outputs": [],
   "source": [
    "# plot <- ggplot(data, aes(x = chol, y = trestbps, color = cp)) + \n",
    "#     geom_point()\n",
    "# plot"
   ]
  },
  {
   "cell_type": "markdown",
   "metadata": {},
   "source": [
    "## Methods"
   ]
  },
  {
   "cell_type": "code",
   "execution_count": 113,
   "metadata": {},
   "outputs": [],
   "source": [
    "# finalize methods"
   ]
  },
  {
   "cell_type": "markdown",
   "metadata": {},
   "source": [
    "## Expected Outcomes"
   ]
  },
  {
   "cell_type": "code",
   "execution_count": 198,
   "metadata": {},
   "outputs": [],
   "source": [
    "heart_recipe <- recipe(num ~ trestbps + thalach, data = heart_training) %>%\n",
    "    step_scale(all_predictors()) %>%\n",
    "    step_center(all_predictors())\n",
    "\n",
    "knn_spec <- nearest_neighbor(weight_func = \"rectangular\", neighbors = 10) %>%\n",
    "    set_engine(\"kknn\") %>%\n",
    "    set_mode(\"classification\")"
   ]
  },
  {
   "cell_type": "code",
   "execution_count": null,
   "metadata": {},
   "outputs": [],
   "source": [
    "# Fit model\n",
    "heart_fit <- workflow() %>%\n",
    "    add_recipe(heart_recipe) %>%\n",
    "    add_model(knn_spec) %>%\n",
    "    fit(data = heart_training)"
   ]
  },
  {
   "cell_type": "code",
   "execution_count": 199,
   "metadata": {},
   "outputs": [
    {
     "data": {
      "text/html": [
       "<table>\n",
       "<caption>A tibble: 75 × 7</caption>\n",
       "<thead>\n",
       "\t<tr><th scope=col>.pred_class</th><th scope=col>age</th><th scope=col>cp</th><th scope=col>trestbps</th><th scope=col>thalach</th><th scope=col>chol</th><th scope=col>num</th></tr>\n",
       "\t<tr><th scope=col>&lt;fct&gt;</th><th scope=col>&lt;dbl&gt;</th><th scope=col>&lt;fct&gt;</th><th scope=col>&lt;dbl&gt;</th><th scope=col>&lt;dbl&gt;</th><th scope=col>&lt;dbl&gt;</th><th scope=col>&lt;fct&gt;</th></tr>\n",
       "</thead>\n",
       "<tbody>\n",
       "\t<tr><td>1</td><td>57</td><td>4</td><td>140</td><td>148</td><td>192</td><td>0</td></tr>\n",
       "\t<tr><td>0</td><td>56</td><td>2</td><td>140</td><td>153</td><td>294</td><td>0</td></tr>\n",
       "\t<tr><td>0</td><td>64</td><td>1</td><td>110</td><td>144</td><td>211</td><td>0</td></tr>\n",
       "\t<tr><td>⋮</td><td>⋮</td><td>⋮</td><td>⋮</td><td>⋮</td><td>⋮</td><td>⋮</td></tr>\n",
       "\t<tr><td>0</td><td>45</td><td>1</td><td>110</td><td>132</td><td>264</td><td>1</td></tr>\n",
       "\t<tr><td>1</td><td>68</td><td>4</td><td>144</td><td>141</td><td>193</td><td>1</td></tr>\n",
       "\t<tr><td>1</td><td>57</td><td>4</td><td>130</td><td>115</td><td>131</td><td>1</td></tr>\n",
       "</tbody>\n",
       "</table>\n"
      ],
      "text/latex": [
       "A tibble: 75 × 7\n",
       "\\begin{tabular}{lllllll}\n",
       " .pred\\_class & age & cp & trestbps & thalach & chol & num\\\\\n",
       " <fct> & <dbl> & <fct> & <dbl> & <dbl> & <dbl> & <fct>\\\\\n",
       "\\hline\n",
       "\t 1 & 57 & 4 & 140 & 148 & 192 & 0\\\\\n",
       "\t 0 & 56 & 2 & 140 & 153 & 294 & 0\\\\\n",
       "\t 0 & 64 & 1 & 110 & 144 & 211 & 0\\\\\n",
       "\t ⋮ & ⋮ & ⋮ & ⋮ & ⋮ & ⋮ & ⋮\\\\\n",
       "\t 0 & 45 & 1 & 110 & 132 & 264 & 1\\\\\n",
       "\t 1 & 68 & 4 & 144 & 141 & 193 & 1\\\\\n",
       "\t 1 & 57 & 4 & 130 & 115 & 131 & 1\\\\\n",
       "\\end{tabular}\n"
      ],
      "text/markdown": [
       "\n",
       "A tibble: 75 × 7\n",
       "\n",
       "| .pred_class &lt;fct&gt; | age &lt;dbl&gt; | cp &lt;fct&gt; | trestbps &lt;dbl&gt; | thalach &lt;dbl&gt; | chol &lt;dbl&gt; | num &lt;fct&gt; |\n",
       "|---|---|---|---|---|---|---|\n",
       "| 1 | 57 | 4 | 140 | 148 | 192 | 0 |\n",
       "| 0 | 56 | 2 | 140 | 153 | 294 | 0 |\n",
       "| 0 | 64 | 1 | 110 | 144 | 211 | 0 |\n",
       "| ⋮ | ⋮ | ⋮ | ⋮ | ⋮ | ⋮ | ⋮ |\n",
       "| 0 | 45 | 1 | 110 | 132 | 264 | 1 |\n",
       "| 1 | 68 | 4 | 144 | 141 | 193 | 1 |\n",
       "| 1 | 57 | 4 | 130 | 115 | 131 | 1 |\n",
       "\n"
      ],
      "text/plain": [
       "   .pred_class age cp trestbps thalach chol num\n",
       "1  1           57  4  140      148     192  0  \n",
       "2  0           56  2  140      153     294  0  \n",
       "3  0           64  1  110      144     211  0  \n",
       "⋮  ⋮           ⋮   ⋮  ⋮        ⋮       ⋮    ⋮  \n",
       "73 0           45  1  110      132     264  1  \n",
       "74 1           68  4  144      141     193  1  \n",
       "75 1           57  4  130      115     131  1  "
      ]
     },
     "metadata": {},
     "output_type": "display_data"
    }
   ],
   "source": [
    "heart_test_predictions <- predict(heart_fit, heart_testing) %>%\n",
    "    bind_cols(heart_testing)\n",
    "heart_test_predictions"
   ]
  },
  {
   "cell_type": "code",
   "execution_count": 200,
   "metadata": {},
   "outputs": [
    {
     "data": {
      "text/html": [
       "<table>\n",
       "<caption>A tibble: 2 × 3</caption>\n",
       "<thead>\n",
       "\t<tr><th scope=col>.metric</th><th scope=col>.estimator</th><th scope=col>.estimate</th></tr>\n",
       "\t<tr><th scope=col>&lt;chr&gt;</th><th scope=col>&lt;chr&gt;</th><th scope=col>&lt;dbl&gt;</th></tr>\n",
       "</thead>\n",
       "<tbody>\n",
       "\t<tr><td>accuracy</td><td>binary</td><td>0.6266667</td></tr>\n",
       "\t<tr><td>kap     </td><td>binary</td><td>0.2467719</td></tr>\n",
       "</tbody>\n",
       "</table>\n"
      ],
      "text/latex": [
       "A tibble: 2 × 3\n",
       "\\begin{tabular}{lll}\n",
       " .metric & .estimator & .estimate\\\\\n",
       " <chr> & <chr> & <dbl>\\\\\n",
       "\\hline\n",
       "\t accuracy & binary & 0.6266667\\\\\n",
       "\t kap      & binary & 0.2467719\\\\\n",
       "\\end{tabular}\n"
      ],
      "text/markdown": [
       "\n",
       "A tibble: 2 × 3\n",
       "\n",
       "| .metric &lt;chr&gt; | .estimator &lt;chr&gt; | .estimate &lt;dbl&gt; |\n",
       "|---|---|---|\n",
       "| accuracy | binary | 0.6266667 |\n",
       "| kap      | binary | 0.2467719 |\n",
       "\n"
      ],
      "text/plain": [
       "  .metric  .estimator .estimate\n",
       "1 accuracy binary     0.6266667\n",
       "2 kap      binary     0.2467719"
      ]
     },
     "metadata": {},
     "output_type": "display_data"
    }
   ],
   "source": [
    "heart_prediction_accuracy <- heart_test_predictions %>%\n",
    "        metrics(truth = num, estimate = .pred_class)  \n",
    "heart_prediction_accuracy"
   ]
  },
  {
   "cell_type": "code",
   "execution_count": 201,
   "metadata": {},
   "outputs": [],
   "source": [
    "# Cross-validation\n",
    "\n",
    "heart_vfold <- vfold_cv(heart_training, v = 5, strata = num)\n",
    "\n",
    "knn_tune <- nearest_neighbor(weight_func = \"rectangular\", neighbors = tune()) %>%\n",
    "    set_engine(\"kknn\") %>%\n",
    "    set_mode(\"classification\")\n",
    "\n",
    "heart_fit_resample <- workflow() %>%\n",
    "    add_recipe(heart_recipe) %>%\n",
    "    add_model(knn_spec) %>%\n",
    "    fit_resamples(resamples = heart_vfold)"
   ]
  },
  {
   "cell_type": "code",
   "execution_count": null,
   "metadata": {},
   "outputs": [],
   "source": [
    "# Perform cross-validation\n",
    "# Values of k used in the cross-validation\n",
    "k_vals <- tibble(neighbors = seq(from = 1, to = 100, by = 5))\n",
    "vfold_metrics <- workflow() %>%\n",
    "    add_recipe(heart_recipe) %>%\n",
    "    add_model(knn_tune) %>%\n",
    "    tune_grid(resamples = heart_vfold, grid = k_vals) %>%\n",
    "    collect_metrics()\n",
    "vfold_metrics"
   ]
  },
  {
   "cell_type": "code",
   "execution_count": 205,
   "metadata": {},
   "outputs": [
    {
     "data": {
      "text/html": [
       "<table>\n",
       "<caption>A tibble: 100 × 7</caption>\n",
       "<thead>\n",
       "\t<tr><th scope=col>neighbors</th><th scope=col>.metric</th><th scope=col>.estimator</th><th scope=col>mean</th><th scope=col>n</th><th scope=col>std_err</th><th scope=col>.config</th></tr>\n",
       "\t<tr><th scope=col>&lt;dbl&gt;</th><th scope=col>&lt;chr&gt;</th><th scope=col>&lt;chr&gt;</th><th scope=col>&lt;dbl&gt;</th><th scope=col>&lt;int&gt;</th><th scope=col>&lt;dbl&gt;</th><th scope=col>&lt;chr&gt;</th></tr>\n",
       "</thead>\n",
       "<tbody>\n",
       "\t<tr><td>1</td><td>accuracy</td><td>binary</td><td>0.5830918</td><td>5</td><td>0.05061502</td><td>Model001</td></tr>\n",
       "\t<tr><td>2</td><td>accuracy</td><td>binary</td><td>0.6004831</td><td>5</td><td>0.05426972</td><td>Model002</td></tr>\n",
       "\t<tr><td>3</td><td>accuracy</td><td>binary</td><td>0.6099517</td><td>5</td><td>0.02089761</td><td>Model003</td></tr>\n",
       "\t<tr><td>⋮</td><td>⋮</td><td>⋮</td><td>⋮</td><td>⋮</td><td>⋮</td><td>⋮</td></tr>\n",
       "\t<tr><td> 98</td><td>accuracy</td><td>binary</td><td>0.662029</td><td>5</td><td>0.01882484</td><td>Model098</td></tr>\n",
       "\t<tr><td> 99</td><td>accuracy</td><td>binary</td><td>0.662029</td><td>5</td><td>0.01882484</td><td>Model099</td></tr>\n",
       "\t<tr><td>100</td><td>accuracy</td><td>binary</td><td>0.662029</td><td>5</td><td>0.01882484</td><td>Model100</td></tr>\n",
       "</tbody>\n",
       "</table>\n"
      ],
      "text/latex": [
       "A tibble: 100 × 7\n",
       "\\begin{tabular}{lllllll}\n",
       " neighbors & .metric & .estimator & mean & n & std\\_err & .config\\\\\n",
       " <dbl> & <chr> & <chr> & <dbl> & <int> & <dbl> & <chr>\\\\\n",
       "\\hline\n",
       "\t 1 & accuracy & binary & 0.5830918 & 5 & 0.05061502 & Model001\\\\\n",
       "\t 2 & accuracy & binary & 0.6004831 & 5 & 0.05426972 & Model002\\\\\n",
       "\t 3 & accuracy & binary & 0.6099517 & 5 & 0.02089761 & Model003\\\\\n",
       "\t ⋮ & ⋮ & ⋮ & ⋮ & ⋮ & ⋮ & ⋮\\\\\n",
       "\t  98 & accuracy & binary & 0.662029 & 5 & 0.01882484 & Model098\\\\\n",
       "\t  99 & accuracy & binary & 0.662029 & 5 & 0.01882484 & Model099\\\\\n",
       "\t 100 & accuracy & binary & 0.662029 & 5 & 0.01882484 & Model100\\\\\n",
       "\\end{tabular}\n"
      ],
      "text/markdown": [
       "\n",
       "A tibble: 100 × 7\n",
       "\n",
       "| neighbors &lt;dbl&gt; | .metric &lt;chr&gt; | .estimator &lt;chr&gt; | mean &lt;dbl&gt; | n &lt;int&gt; | std_err &lt;dbl&gt; | .config &lt;chr&gt; |\n",
       "|---|---|---|---|---|---|---|\n",
       "| 1 | accuracy | binary | 0.5830918 | 5 | 0.05061502 | Model001 |\n",
       "| 2 | accuracy | binary | 0.6004831 | 5 | 0.05426972 | Model002 |\n",
       "| 3 | accuracy | binary | 0.6099517 | 5 | 0.02089761 | Model003 |\n",
       "| ⋮ | ⋮ | ⋮ | ⋮ | ⋮ | ⋮ | ⋮ |\n",
       "|  98 | accuracy | binary | 0.662029 | 5 | 0.01882484 | Model098 |\n",
       "|  99 | accuracy | binary | 0.662029 | 5 | 0.01882484 | Model099 |\n",
       "| 100 | accuracy | binary | 0.662029 | 5 | 0.01882484 | Model100 |\n",
       "\n"
      ],
      "text/plain": [
       "    neighbors .metric  .estimator mean      n std_err    .config \n",
       "1   1         accuracy binary     0.5830918 5 0.05061502 Model001\n",
       "2   2         accuracy binary     0.6004831 5 0.05426972 Model002\n",
       "3   3         accuracy binary     0.6099517 5 0.02089761 Model003\n",
       "⋮   ⋮         ⋮        ⋮          ⋮         ⋮ ⋮          ⋮       \n",
       "98   98       accuracy binary     0.662029  5 0.01882484 Model098\n",
       "99   99       accuracy binary     0.662029  5 0.01882484 Model099\n",
       "100 100       accuracy binary     0.662029  5 0.01882484 Model100"
      ]
     },
     "metadata": {},
     "output_type": "display_data"
    },
    {
     "data": {
      "text/html": [
       "<table>\n",
       "<caption>A tibble: 1 × 2</caption>\n",
       "<thead>\n",
       "\t<tr><th scope=col>neighbors</th><th scope=col>mean</th></tr>\n",
       "\t<tr><th scope=col>&lt;dbl&gt;</th><th scope=col>&lt;dbl&gt;</th></tr>\n",
       "</thead>\n",
       "<tbody>\n",
       "\t<tr><td>26</td><td>0.7144928</td></tr>\n",
       "</tbody>\n",
       "</table>\n"
      ],
      "text/latex": [
       "A tibble: 1 × 2\n",
       "\\begin{tabular}{ll}\n",
       " neighbors & mean\\\\\n",
       " <dbl> & <dbl>\\\\\n",
       "\\hline\n",
       "\t 26 & 0.7144928\\\\\n",
       "\\end{tabular}\n"
      ],
      "text/markdown": [
       "\n",
       "A tibble: 1 × 2\n",
       "\n",
       "| neighbors &lt;dbl&gt; | mean &lt;dbl&gt; |\n",
       "|---|---|\n",
       "| 26 | 0.7144928 |\n",
       "\n"
      ],
      "text/plain": [
       "  neighbors mean     \n",
       "1 26        0.7144928"
      ]
     },
     "metadata": {},
     "output_type": "display_data"
    },
    {
     "data": {
      "image/png": "[encoded data removed]",
      "text/plain": [
       "plot without title"
      ]
     },
     "metadata": {
      "image/png": {
       "height": 420,
       "width": 420
      }
     },
     "output_type": "display_data"
    }
   ],
   "source": [
    "accuracies <- vfold_metrics %>% \n",
    "    filter(.metric == \"accuracy\")\n",
    "accuracies\n",
    "\n",
    "accuracy_versus_k <- ggplot(accuracies, aes(x = neighbors, y = mean)) +\n",
    "      geom_point() +\n",
    "      geom_line() +\n",
    "      labs(x = \"Neighbors\", y = \"Accuracy Estimate\") +\n",
    "      scale_x_continuous(breaks = seq(0, max(accuracies$neighbors), by = 1)) +  # adjusting the x-axis\n",
    "      scale_y_continuous(limits = c(0, 1)) # adjusting the y-axis\n",
    "accuracy_versus_k\n",
    "\n",
    "# determine max accuracy, and k which achieves this max\n",
    "max_accuracy <- accuracies %>%\n",
    "    arrange(mean) %>%\n",
    "    slice_tail() %>%\n",
    "    select(neighbors, mean)\n",
    "max_accuracy\n",
    "\n",
    "# age + trestbps + thalach + chol\n",
    "# 0.7099\n",
    "# age + trestbps + thalach"
   ]
  }
 ],
 "metadata": {
  "kernelspec": {
   "display_name": "R",
   "language": "R",
   "name": "ir"
  },
  "language_info": {
   "codemirror_mode": "r",
   "file_extension": ".r",
   "mimetype": "text/x-r-source",
   "name": "R",
   "pygments_lexer": "r",
   "version": "4.0.0"
  }
 },
 "nbformat": 4,
 "nbformat_minor": 4
}
