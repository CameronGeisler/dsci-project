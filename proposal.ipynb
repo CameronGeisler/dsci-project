{
 "cells": [
  {
   "cell_type": "code",
   "execution_count": null,
   "metadata": {},
   "outputs": [],
   "source": [
    "library(tidyverse)\n",
    "library(repr)\n",
    "library(tidymodels)\n",
    "options(repr.matrix.max.rows = 6)"
   ]
  },
  {
   "cell_type": "markdown",
   "metadata": {},
   "source": [
    "Data set: https://archive.ics.uci.edu/ml/datasets/Heart+Disease"
   ]
  },
  {
   "cell_type": "code",
   "execution_count": null,
   "metadata": {},
   "outputs": [],
   "source": [
    "# Load the dataset\n",
    "url <- \"https://archive.ics.uci.edu/ml/machine-learning-databases/heart-disease/processed.cleveland.data\"\n",
    "names <- c(\"age\", \"sex\", \"cp\", \"trestbps\", \"chol\", \"fbs\", \"restecg\", \"thalach\", \"exang\", \"oldpeak\", \"slope\", \"ca\", \"thal\", \"num\")\n",
    "data_raw <- read_csv(url, col_names = names)"
   ]
  },
  {
   "cell_type": "code",
   "execution_count": null,
   "metadata": {},
   "outputs": [],
   "source": [
    "# Wrangle data\n",
    "data <- data_raw %>%\n",
    "    select(c(\"age\", \"cp\", \"trestbps\", \"thalach\", \"chol\", \"num\", \"fbs\")) %>% # select only columns that are used\n",
    "    mutate(cp = as_factor(cp), # update target variables to factor\n",
    "          num = as_factor(num),\n",
    "          fbs = as_factor(fbs)) %>%\n",
    "    rename(heart_disease = num, # rename some columns with more intuitive names\n",
    "          rest_bp = trestbps,\n",
    "          max_heart_rate = thalach)"
   ]
  },
  {
   "cell_type": "code",
   "execution_count": null,
   "metadata": {},
   "outputs": [],
   "source": [
    "# Currently, there are 5 levels of heart disease, 0, 1, 2, 3, 4.\n",
    "# Classify heart_disease to either 0 (no visible heart disease) or 1-4 (mild heart disease to very severe)\n",
    "data <- data %>%\n",
    "    mutate(heart_disease = as_factor(ifelse(heart_disease == 0, \"No\", \"Yes\")))\n",
    "# For cp, we could classify as either 0-1 (no angina) or 2-3 (angina)\n",
    "data"
   ]
  },
  {
   "cell_type": "code",
   "execution_count": null,
   "metadata": {},
   "outputs": [],
   "source": [
    "# Split the data set into training data and testing data\n",
    "set.seed(1) # set the seed\n",
    "\n",
    "heart_split = initial_split(data, prop = 0.75, strata = heart_disease)\n",
    "heart_training = training(heart_split)\n",
    "heart_testing = testing(heart_split)"
   ]
  },
  {
   "cell_type": "markdown",
   "metadata": {},
   "source": [
    "## Preliminary Exploratory Data Analysis"
   ]
  },
  {
   "cell_type": "markdown",
   "metadata": {},
   "source": [
    "Below are histograms for the four possible predictor variables: age, blood cholesterol, maximum heart rate, and resting blood pressure. Each of the graphs are split up into the groups of people who have heart disease (in blue) and those who don't (in red)."
   ]
  },
  {
   "cell_type": "code",
   "execution_count": null,
   "metadata": {},
   "outputs": [],
   "source": [
    "# Histograms for numerical predictor variables\n",
    "bins_num = ceiling(log(nrow(data),2))+1 # number of bins, by Sturges' formula\n",
    "# theme_set(theme_grey())\n",
    "target_var = heart_training$heart_disease # target variable, to split up histograms by (data$num or data$cp)\n",
    "\n",
    "ggplot(heart_training, aes(x = age, fill = target_var)) +\n",
    "    geom_histogram(bins = bins_num) +\n",
    "    facet_grid(rows = target_var) + \n",
    "    labs(x = \"Age (years)\", fill = \"Presence of Heart Disease\")\n",
    "ggplot(heart_training, aes(x = rest_bp, fill = target_var)) +\n",
    "    geom_histogram(bins = bins_num) +\n",
    "    facet_grid(rows = target_var) + \n",
    "    labs(x = \"Resting Blood Pressure (mmHg)\", fill = \"Presence of Heart Disease\")\n",
    "ggplot(heart_training, aes(x = max_heart_rate, fill = target_var)) +\n",
    "    geom_histogram(bins = bins_num) +\n",
    "    facet_grid(rows = target_var) + \n",
    "    labs(x = \"Maximum Heart Rate Achieved (beats per minute)\", fill = \"Presence of Heart Disease\")\n",
    "ggplot(heart_training, aes(x = chol, fill = target_var)) +\n",
    "    geom_histogram(bins = bins_num) +\n",
    "    facet_grid(rows = target_var) + \n",
    "    labs(x = \"Blood Cholesterol (mg/dL)\", fill = \"Presence of Heart Disease\")"
   ]
  },
  {
   "cell_type": "markdown",
   "metadata": {},
   "source": [
    "Then, we can roughly compare the distributions to see if any variable individually seems to be associated with the presence of heart disease. From these plots, it seems that age is positively associated with heart disease, and maximum heart rate is negatively associated with heart disease. The other two variables are not clearly associated in either direction."
   ]
  },
  {
   "cell_type": "markdown",
   "metadata": {},
   "source": [
    "Below is a bar plot which shows the relative proportion of individuals with and without heart disease in the data set. "
   ]
  },
  {
   "cell_type": "code",
   "execution_count": null,
   "metadata": {},
   "outputs": [],
   "source": [
    "# Bar plots for target variable (heart disease)\n",
    "ggplot(data, aes(x = heart_disease)) +\n",
    "    geom_bar() +\n",
    "    xlab(\"Presence of Heart Disease\") +\n",
    "    ylab(\"Number of People\")"
   ]
  },
  {
   "cell_type": "markdown",
   "metadata": {},
   "source": [
    "Notice that the proportions are roughly equal in each category."
   ]
  },
  {
   "cell_type": "markdown",
   "metadata": {},
   "source": [
    "## Methods"
   ]
  },
  {
   "cell_type": "markdown",
   "metadata": {},
   "source": [
    "We will use K-nearest neighbors classfication, with potential predictor variables of age, resting blood pressure, maximum heart rate, and blood cholesterol, and target variable of the diagnosis of heart disease. We will use a training set, and further split the data set to perform cross-validation. We will try the analysis with various combinations of predictor variables, and use the combination which produces the maximum accuracy."
   ]
  },
  {
   "cell_type": "markdown",
   "metadata": {},
   "source": [
    "To visualize the results, we could use a confusion matrix in order to identify the proportion of false positives and false negatives. If we end up using only 2 (or 3) predictors, we could use a scatterplot (or 3D scatterplot, respectively)."
   ]
  },
  {
   "cell_type": "code",
   "execution_count": null,
   "metadata": {},
   "outputs": [],
   "source": [
    "# textbook 3D scatterplot created with Plotly (can be done with R? 3d scatterplot r)"
   ]
  },
  {
   "cell_type": "markdown",
   "metadata": {},
   "source": [
    "## Expected Outcomes"
   ]
  },
  {
   "cell_type": "markdown",
   "metadata": {},
   "source": []
  }
 ],
 "metadata": {
  "kernelspec": {
   "display_name": "R",
   "language": "R",
   "name": "ir"
  },
  "language_info": {
   "codemirror_mode": "r",
   "file_extension": ".r",
   "mimetype": "text/x-r-source",
   "name": "R",
   "pygments_lexer": "r",
   "version": "4.0.0"
  }
 },
 "nbformat": 4,
 "nbformat_minor": 4
}
