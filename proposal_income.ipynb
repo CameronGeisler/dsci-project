{
 "cells": [
  {
   "cell_type": "code",
   "execution_count": null,
   "metadata": {},
   "outputs": [],
   "source": [
    "library(tidyverse)\n",
    "library(repr)\n",
    "library(tidymodels)\n",
    "options(repr.matrix.max.rows = 6)"
   ]
  },
  {
   "cell_type": "code",
   "execution_count": null,
   "metadata": {},
   "outputs": [],
   "source": [
    "# Load the dataset\n",
    "url <- \"https://archive.ics.uci.edu/ml/machine-learning-databases/adult/adult.data\"\n",
    "names <- c(\"age\", \"workclass\", \"fnlwgt\", \"education\", \"education_num\", \"martial-status\", \"occupation\", \"relationship\",\n",
    "           \"race\", \"sex\", \"capital_gain\", \"capital_loss\", \"hours_per_week\", \"native_country\", \"income\")\n",
    "data_raw <- read_csv(url, col_names = names)\n",
    "data_raw"
   ]
  },
  {
   "cell_type": "code",
   "execution_count": null,
   "metadata": {},
   "outputs": [],
   "source": [
    "# Wrangle data\n",
    "data <- data_raw %>%\n",
    "    filter(native_country == \"United-States\") %>%\n",
    "    select(c(\"age\", \"education_num\", \"hours_per_week\", \"income\")) %>% # select only columns that are used\n",
    "    mutate(income = as_factor(ifelse(income == \"<=50K\", 0, 1)))\n",
    "data"
   ]
  },
  {
   "cell_type": "code",
   "execution_count": null,
   "metadata": {},
   "outputs": [],
   "source": [
    "# Split into training data and testing data\n",
    "set.seed(1) # set the seed\n",
    "\n",
    "income_split = initial_split(data, prop = 0.75, strata = income) # strata = target variable\n",
    "income_training = training(income_split)\n",
    "income_testing = testing(income_split)"
   ]
  },
  {
   "cell_type": "markdown",
   "metadata": {},
   "source": [
    "## Preliminary Exploratory Data Analysis"
   ]
  },
  {
   "cell_type": "code",
   "execution_count": null,
   "metadata": {},
   "outputs": [],
   "source": [
    "# Histograms for numerical predictor variables\n",
    "bins_num = ceiling(log(nrow(data),2))+1 # number of bins, by Sturges' formula\n",
    "theme_set(theme_grey())\n",
    "target_var = income_training$income # target variable\n",
    "\n",
    "ggplot(income_training, aes(x = age, fill = target_var)) +\n",
    "    geom_histogram(bins = bins_num) +\n",
    "    facet_grid(rows = target_var)\n",
    "ggplot(income_training, aes(x = education_num, fill = target_var)) +\n",
    "    geom_histogram(bins = bins_num) +\n",
    "    facet_grid(rows = target_var)\n",
    "ggplot(income_training, aes(x = hours_per_week, fill = target_var)) +\n",
    "    geom_histogram(bins = bins_num) +\n",
    "    facet_grid(rows = target_var)"
   ]
  },
  {
   "cell_type": "code",
   "execution_count": null,
   "metadata": {},
   "outputs": [],
   "source": [
    "# Bar plots for (potential) target variables\n",
    "ggplot(data, aes(x = income)) +\n",
    "    geom_bar() +\n",
    "    xlab(\"Income\") +\n",
    "    ylab(\"Frequency\")"
   ]
  },
  {
   "cell_type": "markdown",
   "metadata": {},
   "source": [
    "## Methods"
   ]
  },
  {
   "cell_type": "code",
   "execution_count": null,
   "metadata": {},
   "outputs": [],
   "source": [
    "# finalize methods"
   ]
  },
  {
   "cell_type": "markdown",
   "metadata": {},
   "source": [
    "## Expected Outcomes"
   ]
  },
  {
   "cell_type": "code",
   "execution_count": null,
   "metadata": {},
   "outputs": [],
   "source": [
    "# Create recipe, choose target and predictor variables\n",
    "# income ~ age + education_num + hours_per_week\n",
    "\n",
    "income_recipe <- recipe(income ~ age + education_num + hours_per_week, data = income_training) %>%\n",
    "    step_scale(all_predictors()) %>%\n",
    "    step_center(all_predictors())\n",
    "#     step_upsample(income, over_ratio = 1, skip = FALSE)"
   ]
  },
  {
   "cell_type": "code",
   "execution_count": null,
   "metadata": {},
   "outputs": [],
   "source": [
    "# Create model with specific value of k (no cross-validation)\n",
    "knn_spec <- nearest_neighbor(weight_func = \"rectangular\", neighbors = 20) %>%\n",
    "    set_engine(\"kknn\") %>%\n",
    "    set_mode(\"classification\")\n",
    "\n",
    "# Fit model\n",
    "income_fit <- workflow() %>%\n",
    "    add_recipe(income_recipe) %>%\n",
    "    add_model(knn_spec) %>%\n",
    "    fit(data = income_training)"
   ]
  },
  {
   "cell_type": "code",
   "execution_count": null,
   "metadata": {},
   "outputs": [],
   "source": [
    "income_test_predictions <- predict(income_fit, income_testing) %>%\n",
    "    bind_cols(income_testing)\n",
    "# income_test_predictions"
   ]
  },
  {
   "cell_type": "code",
   "execution_count": null,
   "metadata": {},
   "outputs": [],
   "source": [
    "income_prediction_accuracy <- income_test_predictions %>%\n",
    "        metrics(truth = income, estimate = .pred_class)  \n",
    "income_prediction_accuracy"
   ]
  },
  {
   "cell_type": "markdown",
   "metadata": {},
   "source": [
    "## Cross Validation"
   ]
  },
  {
   "cell_type": "code",
   "execution_count": null,
   "metadata": {},
   "outputs": [],
   "source": [
    "# Cross-validation\n",
    "income_vfold <- vfold_cv(income_training, v = 5, strata = income)\n",
    "\n",
    "knn_tune <- nearest_neighbor(weight_func = \"rectangular\", neighbors = tune()) %>%\n",
    "    set_engine(\"kknn\") %>%\n",
    "    set_mode(\"classification\")"
   ]
  },
  {
   "cell_type": "code",
   "execution_count": null,
   "metadata": {},
   "outputs": [],
   "source": [
    "# Perform cross-validation\n",
    "\n",
    "# Values of k used in the cross-validation\n",
    "k_vals <- tibble(neighbors = seq(from = 1, to = 20, by = 1))\n",
    "\n",
    "income_fit_resample <- workflow() %>%\n",
    "    add_recipe(income_recipe) %>%\n",
    "    add_model(knn_tune) %>%\n",
    "    tune_grid(resamples = income_vfold, grid = 10) %>%\n",
    "    collect_metrics()\n",
    "income_fit_resample"
   ]
  },
  {
   "cell_type": "code",
   "execution_count": null,
   "metadata": {},
   "outputs": [],
   "source": [
    "# Plot the accuracies for various values of k\n",
    "accuracies <- income_fit_resample %>% \n",
    "    filter(.metric == \"accuracy\")\n",
    "# accuracies\n",
    "\n",
    "accuracy_versus_k <- ggplot(accuracies, aes(x = neighbors, y = mean)) +\n",
    "      geom_point() +\n",
    "      geom_line() +\n",
    "      labs(x = \"Neighbors\", y = \"Accuracy Estimate\") +\n",
    "      scale_x_continuous(breaks = seq(0, max(accuracies$neighbors), by = 1)) +  # adjusting the x-axis\n",
    "      scale_y_continuous(limits = c(0, 1)) # adjusting the y-axis\n",
    "accuracy_versus_k"
   ]
  },
  {
   "cell_type": "code",
   "execution_count": null,
   "metadata": {},
   "outputs": [],
   "source": [
    "# determine max accuracy, and k which achieves this max\n",
    "max_accuracy <- accuracies %>%\n",
    "    arrange(mean) %>%\n",
    "    slice_tail() %>%\n",
    "    select(neighbors, mean)\n",
    "max_accuracy"
   ]
  },
  {
   "cell_type": "code",
   "execution_count": null,
   "metadata": {},
   "outputs": [],
   "source": []
  }
 ],
 "metadata": {
  "kernelspec": {
   "display_name": "R",
   "language": "R",
   "name": "ir"
  },
  "language_info": {
   "codemirror_mode": "r",
   "file_extension": ".r",
   "mimetype": "text/x-r-source",
   "name": "R",
   "pygments_lexer": "r",
   "version": "4.0.0"
  }
 },
 "nbformat": 4,
 "nbformat_minor": 4
}
