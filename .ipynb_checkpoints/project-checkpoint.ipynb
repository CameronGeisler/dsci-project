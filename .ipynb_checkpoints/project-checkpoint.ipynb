{
 "cells": [
  {
   "cell_type": "markdown",
   "metadata": {},
   "source": [
    "# Predicting Heart Disease Using Classification\n",
    "#### Group 11: Cameron Geisler, Daisy Liu, Nima Zareian, Sean Chung\n",
    "## Introduction\n",
    "This project will use [this dataset](https://archive.ics.uci.edu/ml/datasets/Heart+Disease), which describes the various attributes, symptoms and observations seen on patients in the process of being diagnosed with cardiovascular heart diseases. \n",
    "<br> <br>\n",
    "Specifically, the project will be using a [processed version](https://archive.ics.uci.edu/ml/machine-learning-databases/heart-disease/processed.cleveland.data) of said data containing information documented by the Cleveland Foundation. Observations made in other locations are also accessible, but this one is more complete than others in that it lacks missing values.\n",
    "<br> <br>\n",
    "The processed data omits a significant portion of the variables documented by the original data. The original dataset contains about 76 variables while the processed set only contains 14. For the context of the project, the reprocessed version of the data is chosen because of the lack of proper formatting in the original data which effectively prevented it from being properly imported into R.\n",
    "<br> <br>\n",
    "Diagnosis for cardiovascular diseases are often based on direct examinations of the heart done through the use of electrocardiograms (measures heart beat rhythms) and echocardiograms (measures the heart's physical state with ultrasound).\n",
    "<br> <br>\n",
    "Aside from these direct testing methods, there are other health metrics which can be used to help predict heart disease. \n",
    "<br><br>\n",
    "<b>Predictive question:</b> Given easily measured health indicators, such as age and heart rate, what is the status of patients' heart disease (present/absent)?\n",
    "<br><br>\n",
    "Incidentally, almost half of all heart attacks experienced by people were unanticipated due to the presence of asymptomatic heart diseases, that is, heart diseases with little to no experience based indicators, and are thus difficult to notice and diagnose.\n",
    "<br>"
   ]
  },
  {
   "cell_type": "markdown",
   "metadata": {},
   "source": [
    "## Preliminary Exploratory Data Analysis"
   ]
  },
  {
   "cell_type": "markdown",
   "metadata": {},
   "source": [
    "First, we load the necessary packages."
   ]
  },
  {
   "cell_type": "code",
   "execution_count": 3,
   "metadata": {},
   "outputs": [
    {
     "name": "stderr",
     "output_type": "stream",
     "text": [
      "── \u001b[1mAttaching packages\u001b[22m ─────────────────────────────────────── tidyverse 1.3.0 ──\n",
      "\n",
      "\u001b[32m✔\u001b[39m \u001b[34mggplot2\u001b[39m 3.3.2     \u001b[32m✔\u001b[39m \u001b[34mpurrr  \u001b[39m 0.3.4\n",
      "\u001b[32m✔\u001b[39m \u001b[34mtibble \u001b[39m 3.0.3     \u001b[32m✔\u001b[39m \u001b[34mdplyr  \u001b[39m 1.0.2\n",
      "\u001b[32m✔\u001b[39m \u001b[34mtidyr  \u001b[39m 1.1.2     \u001b[32m✔\u001b[39m \u001b[34mstringr\u001b[39m 1.4.0\n",
      "\u001b[32m✔\u001b[39m \u001b[34mreadr  \u001b[39m 1.3.1     \u001b[32m✔\u001b[39m \u001b[34mforcats\u001b[39m 0.5.0\n",
      "\n",
      "Warning message:\n",
      "“package ‘ggplot2’ was built under R version 4.0.1”\n",
      "Warning message:\n",
      "“package ‘tibble’ was built under R version 4.0.2”\n",
      "Warning message:\n",
      "“package ‘tidyr’ was built under R version 4.0.2”\n",
      "Warning message:\n",
      "“package ‘dplyr’ was built under R version 4.0.2”\n",
      "── \u001b[1mConflicts\u001b[22m ────────────────────────────────────────── tidyverse_conflicts() ──\n",
      "\u001b[31m✖\u001b[39m \u001b[34mdplyr\u001b[39m::\u001b[32mfilter()\u001b[39m masks \u001b[34mstats\u001b[39m::filter()\n",
      "\u001b[31m✖\u001b[39m \u001b[34mdplyr\u001b[39m::\u001b[32mlag()\u001b[39m    masks \u001b[34mstats\u001b[39m::lag()\n",
      "\n",
      "Warning message:\n",
      "“package ‘tidymodels’ was built under R version 4.0.2”\n",
      "── \u001b[1mAttaching packages\u001b[22m ────────────────────────────────────── tidymodels 0.1.1 ──\n",
      "\n",
      "\u001b[32m✔\u001b[39m \u001b[34mbroom    \u001b[39m 0.7.0      \u001b[32m✔\u001b[39m \u001b[34mrecipes  \u001b[39m 0.1.13\n",
      "\u001b[32m✔\u001b[39m \u001b[34mdials    \u001b[39m 0.0.9      \u001b[32m✔\u001b[39m \u001b[34mrsample  \u001b[39m 0.0.7 \n",
      "\u001b[32m✔\u001b[39m \u001b[34minfer    \u001b[39m 0.5.4      \u001b[32m✔\u001b[39m \u001b[34mtune     \u001b[39m 0.1.1 \n",
      "\u001b[32m✔\u001b[39m \u001b[34mmodeldata\u001b[39m 0.0.2      \u001b[32m✔\u001b[39m \u001b[34mworkflows\u001b[39m 0.2.0 \n",
      "\u001b[32m✔\u001b[39m \u001b[34mparsnip  \u001b[39m 0.1.3      \u001b[32m✔\u001b[39m \u001b[34myardstick\u001b[39m 0.0.7 \n",
      "\n",
      "Warning message:\n",
      "“package ‘broom’ was built under R version 4.0.2”\n",
      "Warning message:\n",
      "“package ‘dials’ was built under R version 4.0.2”\n",
      "Warning message:\n",
      "“package ‘infer’ was built under R version 4.0.3”\n",
      "Warning message:\n",
      "“package ‘modeldata’ was built under R version 4.0.1”\n",
      "Warning message:\n",
      "“package ‘parsnip’ was built under R version 4.0.2”\n",
      "Warning message:\n",
      "“package ‘recipes’ was built under R version 4.0.1”\n",
      "Warning message:\n",
      "“package ‘tune’ was built under R version 4.0.2”\n",
      "Warning message:\n",
      "“package ‘workflows’ was built under R version 4.0.2”\n",
      "Warning message:\n",
      "“package ‘yardstick’ was built under R version 4.0.2”\n",
      "── \u001b[1mConflicts\u001b[22m ───────────────────────────────────────── tidymodels_conflicts() ──\n",
      "\u001b[31m✖\u001b[39m \u001b[34mscales\u001b[39m::\u001b[32mdiscard()\u001b[39m masks \u001b[34mpurrr\u001b[39m::discard()\n",
      "\u001b[31m✖\u001b[39m \u001b[34mdplyr\u001b[39m::\u001b[32mfilter()\u001b[39m   masks \u001b[34mstats\u001b[39m::filter()\n",
      "\u001b[31m✖\u001b[39m \u001b[34mrecipes\u001b[39m::\u001b[32mfixed()\u001b[39m  masks \u001b[34mstringr\u001b[39m::fixed()\n",
      "\u001b[31m✖\u001b[39m \u001b[34mdplyr\u001b[39m::\u001b[32mlag()\u001b[39m      masks \u001b[34mstats\u001b[39m::lag()\n",
      "\u001b[31m✖\u001b[39m \u001b[34myardstick\u001b[39m::\u001b[32mspec()\u001b[39m masks \u001b[34mreadr\u001b[39m::spec()\n",
      "\u001b[31m✖\u001b[39m \u001b[34mrecipes\u001b[39m::\u001b[32mstep()\u001b[39m   masks \u001b[34mstats\u001b[39m::step()\n",
      "\n"
     ]
    }
   ],
   "source": [
    "library(tidyverse)\n",
    "library(repr)\n",
    "library(tidymodels)\n",
    "options(repr.matrix.max.rows = 6)"
   ]
  },
  {
   "cell_type": "markdown",
   "metadata": {},
   "source": [
    "Next, we load the dataset from the [URL](https://archive.ics.uci.edu/ml/machine-learning-databases/heart-disease/processed.cleveland.data)."
   ]
  },
  {
   "cell_type": "code",
   "execution_count": 4,
   "metadata": {},
   "outputs": [
    {
     "name": "stderr",
     "output_type": "stream",
     "text": [
      "Parsed with column specification:\n",
      "cols(\n",
      "  age = \u001b[32mcol_double()\u001b[39m,\n",
      "  sex = \u001b[32mcol_double()\u001b[39m,\n",
      "  cp = \u001b[32mcol_double()\u001b[39m,\n",
      "  trestbps = \u001b[32mcol_double()\u001b[39m,\n",
      "  chol = \u001b[32mcol_double()\u001b[39m,\n",
      "  fbs = \u001b[32mcol_double()\u001b[39m,\n",
      "  restecg = \u001b[32mcol_double()\u001b[39m,\n",
      "  thalach = \u001b[32mcol_double()\u001b[39m,\n",
      "  exang = \u001b[32mcol_double()\u001b[39m,\n",
      "  oldpeak = \u001b[32mcol_double()\u001b[39m,\n",
      "  slope = \u001b[32mcol_double()\u001b[39m,\n",
      "  ca = \u001b[31mcol_character()\u001b[39m,\n",
      "  thal = \u001b[31mcol_character()\u001b[39m,\n",
      "  num = \u001b[32mcol_double()\u001b[39m\n",
      ")\n",
      "\n"
     ]
    }
   ],
   "source": [
    "# Load the dataset\n",
    "url <- \"https://archive.ics.uci.edu/ml/machine-learning-databases/heart-disease/processed.cleveland.data\"\n",
    "names <- c(\"age\", \"sex\", \"cp\", \"trestbps\", \"chol\", \"fbs\", \"restecg\", \"thalach\", \"exang\", \"oldpeak\", \"slope\", \"ca\", \"thal\", \"num\")\n",
    "data_raw <- read_csv(url, col_names = names)"
   ]
  },
  {
   "cell_type": "markdown",
   "metadata": {},
   "source": [
    "The data is already in a tidy format. However, we still make some small changes, to make it more intuitive for human use, and also more suitable for applying various R functions."
   ]
  },
  {
   "cell_type": "code",
   "execution_count": 5,
   "metadata": {},
   "outputs": [],
   "source": [
    "# Wrangle data\n",
    "data <- data_raw %>%\n",
    "    select(c(\"age\", \"trestbps\", \"thalach\", \"chol\", \"num\")) %>% # select only columns that are used\n",
    "    mutate(num = as_factor(num)) %>% # update target variables to factor\n",
    "    rename(heart_disease = num, # rename some columns with more intuitive names\n",
    "          rest_bp = trestbps,\n",
    "          max_heart_rate = thalach)"
   ]
  },
  {
   "cell_type": "markdown",
   "metadata": {},
   "source": [
    "In the original data, there are five levels of heart disease (labelled 0, 1, 2, 3, 4), which varying degrees of disease, from \"no visible heart disease\" to \"very severe heart disease\". We combine levels 1-4, in order to simply classify the observations as having heart diesease (labelled as \"Yes\") or not (labelled as \"No\")."
   ]
  },
  {
   "cell_type": "code",
   "execution_count": 6,
   "metadata": {},
   "outputs": [
    {
     "data": {
      "text/html": [
       "<table>\n",
       "<caption>A tibble: 6 × 5</caption>\n",
       "<thead>\n",
       "\t<tr><th scope=col>age</th><th scope=col>rest_bp</th><th scope=col>max_heart_rate</th><th scope=col>chol</th><th scope=col>heart_disease</th></tr>\n",
       "\t<tr><th scope=col>&lt;dbl&gt;</th><th scope=col>&lt;dbl&gt;</th><th scope=col>&lt;dbl&gt;</th><th scope=col>&lt;dbl&gt;</th><th scope=col>&lt;fct&gt;</th></tr>\n",
       "</thead>\n",
       "<tbody>\n",
       "\t<tr><td>63</td><td>145</td><td>150</td><td>233</td><td>No </td></tr>\n",
       "\t<tr><td>67</td><td>160</td><td>108</td><td>286</td><td>Yes</td></tr>\n",
       "\t<tr><td>67</td><td>120</td><td>129</td><td>229</td><td>Yes</td></tr>\n",
       "\t<tr><td>37</td><td>130</td><td>187</td><td>250</td><td>No </td></tr>\n",
       "\t<tr><td>41</td><td>130</td><td>172</td><td>204</td><td>No </td></tr>\n",
       "\t<tr><td>56</td><td>120</td><td>178</td><td>236</td><td>No </td></tr>\n",
       "</tbody>\n",
       "</table>\n"
      ],
      "text/latex": [
       "A tibble: 6 × 5\n",
       "\\begin{tabular}{lllll}\n",
       " age & rest\\_bp & max\\_heart\\_rate & chol & heart\\_disease\\\\\n",
       " <dbl> & <dbl> & <dbl> & <dbl> & <fct>\\\\\n",
       "\\hline\n",
       "\t 63 & 145 & 150 & 233 & No \\\\\n",
       "\t 67 & 160 & 108 & 286 & Yes\\\\\n",
       "\t 67 & 120 & 129 & 229 & Yes\\\\\n",
       "\t 37 & 130 & 187 & 250 & No \\\\\n",
       "\t 41 & 130 & 172 & 204 & No \\\\\n",
       "\t 56 & 120 & 178 & 236 & No \\\\\n",
       "\\end{tabular}\n"
      ],
      "text/markdown": [
       "\n",
       "A tibble: 6 × 5\n",
       "\n",
       "| age &lt;dbl&gt; | rest_bp &lt;dbl&gt; | max_heart_rate &lt;dbl&gt; | chol &lt;dbl&gt; | heart_disease &lt;fct&gt; |\n",
       "|---|---|---|---|---|\n",
       "| 63 | 145 | 150 | 233 | No  |\n",
       "| 67 | 160 | 108 | 286 | Yes |\n",
       "| 67 | 120 | 129 | 229 | Yes |\n",
       "| 37 | 130 | 187 | 250 | No  |\n",
       "| 41 | 130 | 172 | 204 | No  |\n",
       "| 56 | 120 | 178 | 236 | No  |\n",
       "\n"
      ],
      "text/plain": [
       "  age rest_bp max_heart_rate chol heart_disease\n",
       "1 63  145     150            233  No           \n",
       "2 67  160     108            286  Yes          \n",
       "3 67  120     129            229  Yes          \n",
       "4 37  130     187            250  No           \n",
       "5 41  130     172            204  No           \n",
       "6 56  120     178            236  No           "
      ]
     },
     "metadata": {},
     "output_type": "display_data"
    }
   ],
   "source": [
    "data <- data %>%\n",
    "    mutate(heart_disease = as_factor(ifelse(heart_disease == 0, \"No\", \"Yes\")))\n",
    "head(data)"
   ]
  },
  {
   "cell_type": "markdown",
   "metadata": {},
   "source": [
    "Here, we split the data into a training set and testing set, so that future data analysis is solely done on the training set."
   ]
  },
  {
   "cell_type": "code",
   "execution_count": null,
   "metadata": {},
   "outputs": [],
   "source": [
    "set.seed(1) # set the seed\n",
    "\n",
    "heart_split = initial_split(data, prop = 0.75, strata = heart_disease)\n",
    "heart_training = training(heart_split)\n",
    "heart_testing = testing(heart_split)"
   ]
  },
  {
   "cell_type": "markdown",
   "metadata": {},
   "source": [
    "Below is a bar plot which shows the relative proportion of individuals with and without heart disease in the data set. Notice that the proportions are roughly equal in each category."
   ]
  },
  {
   "cell_type": "code",
   "execution_count": null,
   "metadata": {},
   "outputs": [],
   "source": [
    "options(repr.plot.width = 6, repr.plot.height = 6)\n",
    "\n",
    "ggplot(heart_training, aes(x = heart_disease)) +\n",
    "    geom_bar() +\n",
    "    xlab(\"Presence of Heart Disease\") +\n",
    "    ylab(\"Number of People\")"
   ]
  },
  {
   "cell_type": "markdown",
   "metadata": {},
   "source": [
    "Below are histograms for the four possible predictor variables: age, blood cholesterol, maximum heart rate, and resting blood pressure. Each of the graphs are split up into the groups of people who have heart disease (in blue) and those who don't (in red).\n",
    "<br><br>\n",
    "For each variable, we can roughly compare the distribution between the heart disease and non-heart disease group, to see if the variable seems to be associated with the presence of heart disease. From these plots, it seems that age, resting blood pressure, and cholesterol are positively associated with heart disease (although only slightly), and maximum heart rate is negatively associated with heart disease."
   ]
  },
  {
   "cell_type": "code",
   "execution_count": null,
   "metadata": {},
   "outputs": [],
   "source": [
    "options(repr.plot.width = 10, repr.plot.height = 7)\n",
    "theme_set(theme_gray(base_size = 18))\n",
    "\n",
    "# Histograms for (numerical) predictor variables\n",
    "bins_num = ceiling(log(nrow(data),2))+1 # number of bins, by Sturges' formula\n",
    "target_var = heart_training$heart_disease\n",
    "\n",
    "ggplot(heart_training, aes(x = age, fill = target_var)) +\n",
    "    geom_histogram(bins = bins_num) +\n",
    "    facet_grid(rows = target_var) + \n",
    "    labs(x = \"Age (years)\", fill = \"Presence of Heart Disease\")\n",
    "ggplot(heart_training, aes(x = rest_bp, fill = target_var)) +\n",
    "    geom_histogram(bins = bins_num) +\n",
    "    facet_grid(rows = target_var) + \n",
    "    labs(x = \"Resting Blood Pressure (mmHg)\", fill = \"Presence of Heart Disease\")\n",
    "ggplot(heart_training, aes(x = max_heart_rate, fill = target_var)) +\n",
    "    geom_histogram(bins = bins_num) +\n",
    "    facet_grid(rows = target_var) + \n",
    "    labs(x = \"Maximum Heart Rate Achieved (beats per minute)\", fill = \"Presence of Heart Disease\")\n",
    "ggplot(heart_training, aes(x = chol, fill = target_var)) +\n",
    "    geom_histogram(bins = bins_num) +\n",
    "    facet_grid(rows = target_var) + \n",
    "    labs(x = \"Blood Cholesterol (mg/dL)\", fill = \"Presence of Heart Disease\")"
   ]
  },
  {
   "cell_type": "markdown",
   "metadata": {},
   "source": [
    "Below are scatterplots for every possible pair of predictor variables (6 in total). However, there isn't a clear pattern for each pair of variables, besides the small patterns for the individual variables."
   ]
  },
  {
   "cell_type": "code",
   "execution_count": null,
   "metadata": {},
   "outputs": [],
   "source": [
    "# Scatterplots for every possible combination of predictor variables\n",
    "ggplot(heart_training, aes(x = age, y = max_heart_rate, shape = heart_disease, color = heart_disease)) +\n",
    "    geom_point(size = 2) +\n",
    "    labs(x = \"Age (years)\", y = \"Maximum Heart Rate Achieved (beats per minute)\", shape = \"Presence of Heart Disease\", color = \"Presence of Heart Disease\")\n",
    "ggplot(heart_training, aes(x = age, y = rest_bp, shape = heart_disease, color = heart_disease)) +\n",
    "    geom_point(size = 2) +\n",
    "    labs(x = \"Age (years)\", y = \"Resting Blood Pressure (mmHg)\", shape = \"Presence of Heart Disease\", color = \"Presence of Heart Disease\")\n",
    "ggplot(heart_training, aes(x = age, y = chol, shape = heart_disease, color = heart_disease)) +\n",
    "    geom_point(size = 2) +\n",
    "    labs(x = \"Age (years)\", y = \"Blood Cholesterol (mg/dL)\", shape = \"Presence of Heart Disease\", color = \"Presence of Heart Disease\")\n",
    "ggplot(heart_training, aes(x = max_heart_rate, y = chol, shape = heart_disease, color = heart_disease)) +\n",
    "    geom_point(size = 2) +\n",
    "    labs(x = \"Maximum Heart Rate Achieved (beats per minute)\", y = \"Blood Cholesterol (mg/dL)\", shape = \"Presence of Heart Disease\", color = \"Presence of Heart Disease\")\n",
    "ggplot(heart_training, aes(x = max_heart_rate, y = rest_bp, shape = heart_disease, color = heart_disease)) +\n",
    "    geom_point(size = 2) +\n",
    "    labs(x = \"Maximum Heart Rate Achieved (beats per minute)\", y = \"Resting Blood Pressure (mmHg)\", shape = \"Presence of Heart Disease\", color = \"Presence of Heart Disease\")\n",
    "ggplot(heart_training, aes(x = chol, y = rest_bp, shape = heart_disease, color = heart_disease)) +\n",
    "    geom_point(size = 2) +\n",
    "    labs(x = \"Blood Cholesterol (mg/dL)\", y = \"Resting Blood Pressure (mmHg)\", shape = \"Presence of Heart Disease\", color = \"Presence of Heart Disease\")"
   ]
  },
  {
   "cell_type": "markdown",
   "metadata": {},
   "source": [
    "## Methods"
   ]
  },
  {
   "cell_type": "markdown",
   "metadata": {},
   "source": [
    "We will use K-nearest neighbors classification, with predictor variables of age, resting blood pressure, maximum heart rate, and blood cholesterol, and target variable of the diagnosis of heart disease. We will use a training set, and further split the data set to perform cross-validation."
   ]
  },
  {
   "cell_type": "markdown",
   "metadata": {},
   "source": [
    "To visualize the results, we could use a confusion matrix in order to understand the proportion of false positives and false negatives. If we end up using only 2 (or 3) predictors, we could use a scatterplot (or 3D scatterplot, respectively)."
   ]
  },
  {
   "cell_type": "markdown",
   "metadata": {},
   "source": [
    "## Expected Outcomes"
   ]
  },
  {
   "cell_type": "markdown",
   "metadata": {},
   "source": [
    "<b>Expected outcomes for each target variable:</b>\n",
    "Diagnosis of heart disease (no = absence, yes = presence)\n",
    "\n",
    "1. <b> Age </b> - heart diseases are expected to be more common in older people (>65 years) since aging causes changes in the heart and blood vessels.\n",
    "2. <b>Resting blood pressure</b> - we expect that high blood pressure (>130mm assumed systolic bp) will be positively associated with presence of heart disease since high blood pressure is a risk factor for heart disease.\n",
    "3. <b>Cholesterol</b> - we expect that high levels of cholesterol (>240mg/dL) will be positively associated with presence of heart disease since high cholesterol is known to increase risk of heart attacks.\n",
    "4. <b>Maximum heart rate</b> - we expect a weak association between a high maximum heart rate and heart disease since rapid heartbeat is a symptom of coronary artery disease, however, different ages, weights, heights, affect heart rate and what constitutes “rapid heartbeat” which may weaken its relationship with the presence of heart disease.\n",
    "<br>\n",
    "\n",
    "<b>What impact could such findings have?</b> <br>\n",
    "Accurate predictions made by aforementioned indicators can greatly reduce the chance of asymptomatic heart diseases going undiagnosed as the said indicators are more conveniently measured than direct, elaborate testings on the heart which are usually only considered after the patient has expressed discomfort.\n",
    "<br> <br>\n",
    "<b>What future questions could this lead to?</b> <br>\n",
    "Which of these predictors has the highest impact on the presence of heart disease?\n",
    "Do some of these predictors facilitate asymptomatic heart disease more than symptomatic ones?\n"
   ]
  },
  {
   "cell_type": "markdown",
   "metadata": {},
   "source": [
    "## Bibliography\n",
    "“Heart Health and Aging.” National Institute on Aging, U.S. Department of Health and Human Services, 1 June 2018, https://www.nia.nih.gov/health/heart-health-and-aging.\n",
    "<br><br>\n",
    "Perret-Guillaume C, Joly L, Benetos A. Heart rate as a risk factor for cardiovascular disease. Prog Cardiovasc Dis. 2009 Jul-Aug;52(1):6-10. doi: 10.1016/j.pcad.2009.05.003. PMID: 19615487.\n",
    "<br><br>\n",
    "“Prevention of Heart Diseases and Conditions.” Canada.ca, Public Health Agency of Canada, 10 Mar. 2017, https://www.canada.ca/en/public-health/services/diseases/heart-health/heart-diseases-conditions/prevention-heart-diseases-conditions.html."
   ]
  }
 ],
 "metadata": {
  "kernelspec": {
   "display_name": "R",
   "language": "R",
   "name": "ir"
  },
  "language_info": {
   "codemirror_mode": "r",
   "file_extension": ".r",
   "mimetype": "text/x-r-source",
   "name": "R",
   "pygments_lexer": "r",
   "version": "4.0.0"
  }
 },
 "nbformat": 4,
 "nbformat_minor": 4
}
