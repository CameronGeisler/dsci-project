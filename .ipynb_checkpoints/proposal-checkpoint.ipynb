{
 "cells": [
  {
   "cell_type": "markdown",
   "metadata": {},
   "source": [
    "# Group Project Proposal"
   ]
  },
  {
   "cell_type": "code",
   "execution_count": 11,
   "metadata": {},
   "outputs": [],
   "source": [
    "library(tidyverse)\n",
    "library(repr)\n",
    "library(tidymodels)\n",
    "options(repr.matrix.max.rows = 6)"
   ]
  },
  {
   "cell_type": "code",
   "execution_count": 12,
   "metadata": {},
   "outputs": [],
   "source": [
    "# 1 page (max 500 words)"
   ]
  },
  {
   "cell_type": "markdown",
   "metadata": {},
   "source": [
    "## Introduction"
   ]
  },
  {
   "cell_type": "markdown",
   "metadata": {},
   "source": [
    "Provide some relevant background information on the topic so that someone unfamiliar with it will be prepared to understand the rest of your proposal\n",
    "Clearly state the question you will try to answer with your project\n",
    "Identify and describe the dataset that will be used to answer the question"
   ]
  },
  {
   "cell_type": "markdown",
   "metadata": {},
   "source": [
    "## Preliminary Exploratory Data Analysis"
   ]
  },
  {
   "cell_type": "markdown",
   "metadata": {},
   "source": [
    "Demonstrate that the dataset can be read from the web into R\n",
    "Clean and wrangle your data into a tidy format\n",
    "Using only training data, summarize the data in at least one table (this is exploratory data analysis). An example of a useful table could be one that reports the number of observations in each class, the means of the predictor variables you plan to use in your analysis and how many rows have missing data. \n",
    "Using only training data, visualize the data with at least one plot relevant to the analysis you plan to do (this is exploratory data analysis). An example of a useful visualization could be one that compares the distributions of each of the predictor variables you plan to use in your analysis."
   ]
  },
  {
   "cell_type": "code",
   "execution_count": 13,
   "metadata": {},
   "outputs": [
    {
     "name": "stderr",
     "output_type": "stream",
     "text": [
      "Parsed with column specification:\n",
      "cols(\n",
      "  id = \u001b[32mcol_double()\u001b[39m,\n",
      "  age = \u001b[32mcol_double()\u001b[39m,\n",
      "  gender = \u001b[32mcol_double()\u001b[39m,\n",
      "  height = \u001b[32mcol_double()\u001b[39m,\n",
      "  weight = \u001b[32mcol_double()\u001b[39m,\n",
      "  ap_hi = \u001b[32mcol_double()\u001b[39m,\n",
      "  ap_lo = \u001b[32mcol_double()\u001b[39m,\n",
      "  cholesterol = \u001b[32mcol_double()\u001b[39m,\n",
      "  gluc = \u001b[32mcol_double()\u001b[39m,\n",
      "  smoke = \u001b[32mcol_double()\u001b[39m,\n",
      "  alco = \u001b[32mcol_double()\u001b[39m,\n",
      "  active = \u001b[32mcol_double()\u001b[39m,\n",
      "  cardio = \u001b[32mcol_double()\u001b[39m\n",
      ")\n",
      "\n",
      "Parsed with column specification:\n",
      "cols(\n",
      "  row.names = \u001b[32mcol_double()\u001b[39m,\n",
      "  sbp = \u001b[32mcol_double()\u001b[39m,\n",
      "  tobacco = \u001b[32mcol_double()\u001b[39m,\n",
      "  ldl = \u001b[32mcol_double()\u001b[39m,\n",
      "  adiposity = \u001b[32mcol_double()\u001b[39m,\n",
      "  famhist = \u001b[31mcol_character()\u001b[39m,\n",
      "  typea = \u001b[32mcol_double()\u001b[39m,\n",
      "  obesity = \u001b[32mcol_double()\u001b[39m,\n",
      "  alcohol = \u001b[32mcol_double()\u001b[39m,\n",
      "  age = \u001b[32mcol_double()\u001b[39m,\n",
      "  chd = \u001b[32mcol_double()\u001b[39m\n",
      ")\n",
      "\n"
     ]
    },
    {
     "data": {
      "text/html": [
       "<table>\n",
       "<caption>A spec_tbl_df: 70000 × 13</caption>\n",
       "<thead>\n",
       "\t<tr><th scope=col>id</th><th scope=col>age</th><th scope=col>gender</th><th scope=col>height</th><th scope=col>weight</th><th scope=col>ap_hi</th><th scope=col>ap_lo</th><th scope=col>cholesterol</th><th scope=col>gluc</th><th scope=col>smoke</th><th scope=col>alco</th><th scope=col>active</th><th scope=col>cardio</th></tr>\n",
       "\t<tr><th scope=col>&lt;dbl&gt;</th><th scope=col>&lt;dbl&gt;</th><th scope=col>&lt;dbl&gt;</th><th scope=col>&lt;dbl&gt;</th><th scope=col>&lt;dbl&gt;</th><th scope=col>&lt;dbl&gt;</th><th scope=col>&lt;dbl&gt;</th><th scope=col>&lt;dbl&gt;</th><th scope=col>&lt;dbl&gt;</th><th scope=col>&lt;dbl&gt;</th><th scope=col>&lt;dbl&gt;</th><th scope=col>&lt;dbl&gt;</th><th scope=col>&lt;dbl&gt;</th></tr>\n",
       "</thead>\n",
       "<tbody>\n",
       "\t<tr><td>0</td><td>18393</td><td>2</td><td>168</td><td>62</td><td>110</td><td>80</td><td>1</td><td>1</td><td>0</td><td>0</td><td>1</td><td>0</td></tr>\n",
       "\t<tr><td>1</td><td>20228</td><td>1</td><td>156</td><td>85</td><td>140</td><td>90</td><td>3</td><td>1</td><td>0</td><td>0</td><td>1</td><td>1</td></tr>\n",
       "\t<tr><td>2</td><td>18857</td><td>1</td><td>165</td><td>64</td><td>130</td><td>70</td><td>3</td><td>1</td><td>0</td><td>0</td><td>0</td><td>1</td></tr>\n",
       "\t<tr><td>⋮</td><td>⋮</td><td>⋮</td><td>⋮</td><td>⋮</td><td>⋮</td><td>⋮</td><td>⋮</td><td>⋮</td><td>⋮</td><td>⋮</td><td>⋮</td><td>⋮</td></tr>\n",
       "\t<tr><td>99996</td><td>19066</td><td>2</td><td>183</td><td>105</td><td>180</td><td>90</td><td>3</td><td>1</td><td>0</td><td>1</td><td>0</td><td>1</td></tr>\n",
       "\t<tr><td>99998</td><td>22431</td><td>1</td><td>163</td><td> 72</td><td>135</td><td>80</td><td>1</td><td>2</td><td>0</td><td>0</td><td>0</td><td>1</td></tr>\n",
       "\t<tr><td>99999</td><td>20540</td><td>1</td><td>170</td><td> 72</td><td>120</td><td>80</td><td>2</td><td>1</td><td>0</td><td>0</td><td>1</td><td>0</td></tr>\n",
       "</tbody>\n",
       "</table>\n"
      ],
      "text/latex": [
       "A spec\\_tbl\\_df: 70000 × 13\n",
       "\\begin{tabular}{lllllllllllll}\n",
       " id & age & gender & height & weight & ap\\_hi & ap\\_lo & cholesterol & gluc & smoke & alco & active & cardio\\\\\n",
       " <dbl> & <dbl> & <dbl> & <dbl> & <dbl> & <dbl> & <dbl> & <dbl> & <dbl> & <dbl> & <dbl> & <dbl> & <dbl>\\\\\n",
       "\\hline\n",
       "\t 0 & 18393 & 2 & 168 & 62 & 110 & 80 & 1 & 1 & 0 & 0 & 1 & 0\\\\\n",
       "\t 1 & 20228 & 1 & 156 & 85 & 140 & 90 & 3 & 1 & 0 & 0 & 1 & 1\\\\\n",
       "\t 2 & 18857 & 1 & 165 & 64 & 130 & 70 & 3 & 1 & 0 & 0 & 0 & 1\\\\\n",
       "\t ⋮ & ⋮ & ⋮ & ⋮ & ⋮ & ⋮ & ⋮ & ⋮ & ⋮ & ⋮ & ⋮ & ⋮ & ⋮\\\\\n",
       "\t 99996 & 19066 & 2 & 183 & 105 & 180 & 90 & 3 & 1 & 0 & 1 & 0 & 1\\\\\n",
       "\t 99998 & 22431 & 1 & 163 &  72 & 135 & 80 & 1 & 2 & 0 & 0 & 0 & 1\\\\\n",
       "\t 99999 & 20540 & 1 & 170 &  72 & 120 & 80 & 2 & 1 & 0 & 0 & 1 & 0\\\\\n",
       "\\end{tabular}\n"
      ],
      "text/markdown": [
       "\n",
       "A spec_tbl_df: 70000 × 13\n",
       "\n",
       "| id &lt;dbl&gt; | age &lt;dbl&gt; | gender &lt;dbl&gt; | height &lt;dbl&gt; | weight &lt;dbl&gt; | ap_hi &lt;dbl&gt; | ap_lo &lt;dbl&gt; | cholesterol &lt;dbl&gt; | gluc &lt;dbl&gt; | smoke &lt;dbl&gt; | alco &lt;dbl&gt; | active &lt;dbl&gt; | cardio &lt;dbl&gt; |\n",
       "|---|---|---|---|---|---|---|---|---|---|---|---|---|\n",
       "| 0 | 18393 | 2 | 168 | 62 | 110 | 80 | 1 | 1 | 0 | 0 | 1 | 0 |\n",
       "| 1 | 20228 | 1 | 156 | 85 | 140 | 90 | 3 | 1 | 0 | 0 | 1 | 1 |\n",
       "| 2 | 18857 | 1 | 165 | 64 | 130 | 70 | 3 | 1 | 0 | 0 | 0 | 1 |\n",
       "| ⋮ | ⋮ | ⋮ | ⋮ | ⋮ | ⋮ | ⋮ | ⋮ | ⋮ | ⋮ | ⋮ | ⋮ | ⋮ |\n",
       "| 99996 | 19066 | 2 | 183 | 105 | 180 | 90 | 3 | 1 | 0 | 1 | 0 | 1 |\n",
       "| 99998 | 22431 | 1 | 163 |  72 | 135 | 80 | 1 | 2 | 0 | 0 | 0 | 1 |\n",
       "| 99999 | 20540 | 1 | 170 |  72 | 120 | 80 | 2 | 1 | 0 | 0 | 1 | 0 |\n",
       "\n"
      ],
      "text/plain": [
       "      id    age   gender height weight ap_hi ap_lo cholesterol gluc smoke alco\n",
       "1     0     18393 2      168    62     110   80    1           1    0     0   \n",
       "2     1     20228 1      156    85     140   90    3           1    0     0   \n",
       "3     2     18857 1      165    64     130   70    3           1    0     0   \n",
       "⋮     ⋮     ⋮     ⋮      ⋮      ⋮      ⋮     ⋮     ⋮           ⋮    ⋮     ⋮   \n",
       "69998 99996 19066 2      183    105    180   90    3           1    0     1   \n",
       "69999 99998 22431 1      163     72    135   80    1           2    0     0   \n",
       "70000 99999 20540 1      170     72    120   80    2           1    0     0   \n",
       "      active cardio\n",
       "1     1      0     \n",
       "2     1      1     \n",
       "3     0      1     \n",
       "⋮     ⋮      ⋮     \n",
       "69998 0      1     \n",
       "69999 0      1     \n",
       "70000 1      0     "
      ]
     },
     "metadata": {},
     "output_type": "display_data"
    },
    {
     "data": {
      "text/html": [
       "<table>\n",
       "<caption>A spec_tbl_df: 462 × 11</caption>\n",
       "<thead>\n",
       "\t<tr><th scope=col>row.names</th><th scope=col>sbp</th><th scope=col>tobacco</th><th scope=col>ldl</th><th scope=col>adiposity</th><th scope=col>famhist</th><th scope=col>typea</th><th scope=col>obesity</th><th scope=col>alcohol</th><th scope=col>age</th><th scope=col>chd</th></tr>\n",
       "\t<tr><th scope=col>&lt;dbl&gt;</th><th scope=col>&lt;dbl&gt;</th><th scope=col>&lt;dbl&gt;</th><th scope=col>&lt;dbl&gt;</th><th scope=col>&lt;dbl&gt;</th><th scope=col>&lt;chr&gt;</th><th scope=col>&lt;dbl&gt;</th><th scope=col>&lt;dbl&gt;</th><th scope=col>&lt;dbl&gt;</th><th scope=col>&lt;dbl&gt;</th><th scope=col>&lt;dbl&gt;</th></tr>\n",
       "</thead>\n",
       "<tbody>\n",
       "\t<tr><td>1</td><td>160</td><td>12.00</td><td>5.73</td><td>23.11</td><td>Present</td><td>49</td><td>25.30</td><td>97.20</td><td>52</td><td>1</td></tr>\n",
       "\t<tr><td>2</td><td>144</td><td> 0.01</td><td>4.41</td><td>28.61</td><td>Absent </td><td>55</td><td>28.87</td><td> 2.06</td><td>63</td><td>1</td></tr>\n",
       "\t<tr><td>3</td><td>118</td><td> 0.08</td><td>3.48</td><td>32.28</td><td>Present</td><td>52</td><td>29.14</td><td> 3.81</td><td>46</td><td>0</td></tr>\n",
       "\t<tr><td>⋮</td><td>⋮</td><td>⋮</td><td>⋮</td><td>⋮</td><td>⋮</td><td>⋮</td><td>⋮</td><td>⋮</td><td>⋮</td><td>⋮</td></tr>\n",
       "\t<tr><td>461</td><td>108</td><td>3.0</td><td> 1.59</td><td>15.23</td><td>Absent </td><td>40</td><td>20.09</td><td>26.64</td><td>55</td><td>0</td></tr>\n",
       "\t<tr><td>462</td><td>118</td><td>5.4</td><td>11.61</td><td>30.79</td><td>Absent </td><td>64</td><td>27.35</td><td>23.97</td><td>40</td><td>0</td></tr>\n",
       "\t<tr><td>463</td><td>132</td><td>0.0</td><td> 4.82</td><td>33.41</td><td>Present</td><td>62</td><td>14.70</td><td> 0.00</td><td>46</td><td>1</td></tr>\n",
       "</tbody>\n",
       "</table>\n"
      ],
      "text/latex": [
       "A spec\\_tbl\\_df: 462 × 11\n",
       "\\begin{tabular}{lllllllllll}\n",
       " row.names & sbp & tobacco & ldl & adiposity & famhist & typea & obesity & alcohol & age & chd\\\\\n",
       " <dbl> & <dbl> & <dbl> & <dbl> & <dbl> & <chr> & <dbl> & <dbl> & <dbl> & <dbl> & <dbl>\\\\\n",
       "\\hline\n",
       "\t 1 & 160 & 12.00 & 5.73 & 23.11 & Present & 49 & 25.30 & 97.20 & 52 & 1\\\\\n",
       "\t 2 & 144 &  0.01 & 4.41 & 28.61 & Absent  & 55 & 28.87 &  2.06 & 63 & 1\\\\\n",
       "\t 3 & 118 &  0.08 & 3.48 & 32.28 & Present & 52 & 29.14 &  3.81 & 46 & 0\\\\\n",
       "\t ⋮ & ⋮ & ⋮ & ⋮ & ⋮ & ⋮ & ⋮ & ⋮ & ⋮ & ⋮ & ⋮\\\\\n",
       "\t 461 & 108 & 3.0 &  1.59 & 15.23 & Absent  & 40 & 20.09 & 26.64 & 55 & 0\\\\\n",
       "\t 462 & 118 & 5.4 & 11.61 & 30.79 & Absent  & 64 & 27.35 & 23.97 & 40 & 0\\\\\n",
       "\t 463 & 132 & 0.0 &  4.82 & 33.41 & Present & 62 & 14.70 &  0.00 & 46 & 1\\\\\n",
       "\\end{tabular}\n"
      ],
      "text/markdown": [
       "\n",
       "A spec_tbl_df: 462 × 11\n",
       "\n",
       "| row.names &lt;dbl&gt; | sbp &lt;dbl&gt; | tobacco &lt;dbl&gt; | ldl &lt;dbl&gt; | adiposity &lt;dbl&gt; | famhist &lt;chr&gt; | typea &lt;dbl&gt; | obesity &lt;dbl&gt; | alcohol &lt;dbl&gt; | age &lt;dbl&gt; | chd &lt;dbl&gt; |\n",
       "|---|---|---|---|---|---|---|---|---|---|---|\n",
       "| 1 | 160 | 12.00 | 5.73 | 23.11 | Present | 49 | 25.30 | 97.20 | 52 | 1 |\n",
       "| 2 | 144 |  0.01 | 4.41 | 28.61 | Absent  | 55 | 28.87 |  2.06 | 63 | 1 |\n",
       "| 3 | 118 |  0.08 | 3.48 | 32.28 | Present | 52 | 29.14 |  3.81 | 46 | 0 |\n",
       "| ⋮ | ⋮ | ⋮ | ⋮ | ⋮ | ⋮ | ⋮ | ⋮ | ⋮ | ⋮ | ⋮ |\n",
       "| 461 | 108 | 3.0 |  1.59 | 15.23 | Absent  | 40 | 20.09 | 26.64 | 55 | 0 |\n",
       "| 462 | 118 | 5.4 | 11.61 | 30.79 | Absent  | 64 | 27.35 | 23.97 | 40 | 0 |\n",
       "| 463 | 132 | 0.0 |  4.82 | 33.41 | Present | 62 | 14.70 |  0.00 | 46 | 1 |\n",
       "\n"
      ],
      "text/plain": [
       "    row.names sbp tobacco ldl   adiposity famhist typea obesity alcohol age chd\n",
       "1   1         160 12.00   5.73  23.11     Present 49    25.30   97.20   52  1  \n",
       "2   2         144  0.01   4.41  28.61     Absent  55    28.87    2.06   63  1  \n",
       "3   3         118  0.08   3.48  32.28     Present 52    29.14    3.81   46  0  \n",
       "⋮   ⋮         ⋮   ⋮       ⋮     ⋮         ⋮       ⋮     ⋮       ⋮       ⋮   ⋮  \n",
       "460 461       108 3.0      1.59 15.23     Absent  40    20.09   26.64   55  0  \n",
       "461 462       118 5.4     11.61 30.79     Absent  64    27.35   23.97   40  0  \n",
       "462 463       132 0.0      4.82 33.41     Present 62    14.70    0.00   46  1  "
      ]
     },
     "metadata": {},
     "output_type": "display_data"
    }
   ],
   "source": [
    "# Load data set from the web\n",
    "card_data <- read_delim(\"cardio_train.csv\", delim = \";\")\n",
    "card_data2 <- read_csv(\"http://www-stat.stanford.edu/~tibs/ElemStatLearn/datasets/SAheart.data\")\n",
    "card_data\n",
    "card_data2"
   ]
  },
  {
   "cell_type": "code",
   "execution_count": 24,
   "metadata": {},
   "outputs": [
    {
     "data": {
      "text/html": [
       "<table>\n",
       "<caption>A spec_tbl_df: 462 × 11</caption>\n",
       "<thead>\n",
       "\t<tr><th scope=col>row.names</th><th scope=col>sbp</th><th scope=col>tobacco</th><th scope=col>ldl</th><th scope=col>adiposity</th><th scope=col>famhist</th><th scope=col>typea</th><th scope=col>obesity</th><th scope=col>alcohol</th><th scope=col>age</th><th scope=col>chd</th></tr>\n",
       "\t<tr><th scope=col>&lt;dbl&gt;</th><th scope=col>&lt;dbl&gt;</th><th scope=col>&lt;dbl&gt;</th><th scope=col>&lt;dbl&gt;</th><th scope=col>&lt;dbl&gt;</th><th scope=col>&lt;chr&gt;</th><th scope=col>&lt;dbl&gt;</th><th scope=col>&lt;dbl&gt;</th><th scope=col>&lt;dbl&gt;</th><th scope=col>&lt;dbl&gt;</th><th scope=col>&lt;fct&gt;</th></tr>\n",
       "</thead>\n",
       "<tbody>\n",
       "\t<tr><td>1</td><td>160</td><td>12.00</td><td>5.73</td><td>23.11</td><td>Present</td><td>49</td><td>25.30</td><td>97.20</td><td>52</td><td>1</td></tr>\n",
       "\t<tr><td>2</td><td>144</td><td> 0.01</td><td>4.41</td><td>28.61</td><td>Absent </td><td>55</td><td>28.87</td><td> 2.06</td><td>63</td><td>1</td></tr>\n",
       "\t<tr><td>3</td><td>118</td><td> 0.08</td><td>3.48</td><td>32.28</td><td>Present</td><td>52</td><td>29.14</td><td> 3.81</td><td>46</td><td>0</td></tr>\n",
       "\t<tr><td>⋮</td><td>⋮</td><td>⋮</td><td>⋮</td><td>⋮</td><td>⋮</td><td>⋮</td><td>⋮</td><td>⋮</td><td>⋮</td><td>⋮</td></tr>\n",
       "\t<tr><td>461</td><td>108</td><td>3.0</td><td> 1.59</td><td>15.23</td><td>Absent </td><td>40</td><td>20.09</td><td>26.64</td><td>55</td><td>0</td></tr>\n",
       "\t<tr><td>462</td><td>118</td><td>5.4</td><td>11.61</td><td>30.79</td><td>Absent </td><td>64</td><td>27.35</td><td>23.97</td><td>40</td><td>0</td></tr>\n",
       "\t<tr><td>463</td><td>132</td><td>0.0</td><td> 4.82</td><td>33.41</td><td>Present</td><td>62</td><td>14.70</td><td> 0.00</td><td>46</td><td>1</td></tr>\n",
       "</tbody>\n",
       "</table>\n"
      ],
      "text/latex": [
       "A spec\\_tbl\\_df: 462 × 11\n",
       "\\begin{tabular}{lllllllllll}\n",
       " row.names & sbp & tobacco & ldl & adiposity & famhist & typea & obesity & alcohol & age & chd\\\\\n",
       " <dbl> & <dbl> & <dbl> & <dbl> & <dbl> & <chr> & <dbl> & <dbl> & <dbl> & <dbl> & <fct>\\\\\n",
       "\\hline\n",
       "\t 1 & 160 & 12.00 & 5.73 & 23.11 & Present & 49 & 25.30 & 97.20 & 52 & 1\\\\\n",
       "\t 2 & 144 &  0.01 & 4.41 & 28.61 & Absent  & 55 & 28.87 &  2.06 & 63 & 1\\\\\n",
       "\t 3 & 118 &  0.08 & 3.48 & 32.28 & Present & 52 & 29.14 &  3.81 & 46 & 0\\\\\n",
       "\t ⋮ & ⋮ & ⋮ & ⋮ & ⋮ & ⋮ & ⋮ & ⋮ & ⋮ & ⋮ & ⋮\\\\\n",
       "\t 461 & 108 & 3.0 &  1.59 & 15.23 & Absent  & 40 & 20.09 & 26.64 & 55 & 0\\\\\n",
       "\t 462 & 118 & 5.4 & 11.61 & 30.79 & Absent  & 64 & 27.35 & 23.97 & 40 & 0\\\\\n",
       "\t 463 & 132 & 0.0 &  4.82 & 33.41 & Present & 62 & 14.70 &  0.00 & 46 & 1\\\\\n",
       "\\end{tabular}\n"
      ],
      "text/markdown": [
       "\n",
       "A spec_tbl_df: 462 × 11\n",
       "\n",
       "| row.names &lt;dbl&gt; | sbp &lt;dbl&gt; | tobacco &lt;dbl&gt; | ldl &lt;dbl&gt; | adiposity &lt;dbl&gt; | famhist &lt;chr&gt; | typea &lt;dbl&gt; | obesity &lt;dbl&gt; | alcohol &lt;dbl&gt; | age &lt;dbl&gt; | chd &lt;fct&gt; |\n",
       "|---|---|---|---|---|---|---|---|---|---|---|\n",
       "| 1 | 160 | 12.00 | 5.73 | 23.11 | Present | 49 | 25.30 | 97.20 | 52 | 1 |\n",
       "| 2 | 144 |  0.01 | 4.41 | 28.61 | Absent  | 55 | 28.87 |  2.06 | 63 | 1 |\n",
       "| 3 | 118 |  0.08 | 3.48 | 32.28 | Present | 52 | 29.14 |  3.81 | 46 | 0 |\n",
       "| ⋮ | ⋮ | ⋮ | ⋮ | ⋮ | ⋮ | ⋮ | ⋮ | ⋮ | ⋮ | ⋮ |\n",
       "| 461 | 108 | 3.0 |  1.59 | 15.23 | Absent  | 40 | 20.09 | 26.64 | 55 | 0 |\n",
       "| 462 | 118 | 5.4 | 11.61 | 30.79 | Absent  | 64 | 27.35 | 23.97 | 40 | 0 |\n",
       "| 463 | 132 | 0.0 |  4.82 | 33.41 | Present | 62 | 14.70 |  0.00 | 46 | 1 |\n",
       "\n"
      ],
      "text/plain": [
       "    row.names sbp tobacco ldl   adiposity famhist typea obesity alcohol age chd\n",
       "1   1         160 12.00   5.73  23.11     Present 49    25.30   97.20   52  1  \n",
       "2   2         144  0.01   4.41  28.61     Absent  55    28.87    2.06   63  1  \n",
       "3   3         118  0.08   3.48  32.28     Present 52    29.14    3.81   46  0  \n",
       "⋮   ⋮         ⋮   ⋮       ⋮     ⋮         ⋮       ⋮     ⋮       ⋮       ⋮   ⋮  \n",
       "460 461       108 3.0      1.59 15.23     Absent  40    20.09   26.64   55  0  \n",
       "461 462       118 5.4     11.61 30.79     Absent  64    27.35   23.97   40  0  \n",
       "462 463       132 0.0      4.82 33.41     Present 62    14.70    0.00   46  1  "
      ]
     },
     "metadata": {},
     "output_type": "display_data"
    }
   ],
   "source": [
    "card_data <- card_data %>%\n",
    "    mutate(cholesterol = as_factor(cholesterol),\n",
    "           gluc = as_factor(gluc),\n",
    "           smoke = as_factor(smoke),\n",
    "           alco = as_factor(alco),\n",
    "           active = as_factor(active),\n",
    "           cardio = as_factor(cardio),\n",
    "           age = age / 365,\n",
    "           bmi = weight / (height/100)^2)\n",
    "# card_data\n",
    "\n",
    "card_data2 <- card_data2 %>%\n",
    "    mutate(chd = as_factor(chd))\n",
    "card_data2\n",
    "\n",
    "# card_sample <- card_data %>%\n",
    "#     sample_n(250)"
   ]
  },
  {
   "cell_type": "code",
   "execution_count": 23,
   "metadata": {},
   "outputs": [
    {
     "name": "stderr",
     "output_type": "stream",
     "text": [
      "Warning message:\n",
      "“Removed 1 rows containing missing values (geom_point).”\n"
     ]
    },
    {
     "data": {
      "image/png": "[encoded data removed]",
      "text/plain": [
       "plot without title"
      ]
     },
     "metadata": {
      "image/png": {
       "height": 300,
       "width": 480
      }
     },
     "output_type": "display_data"
    }
   ],
   "source": [
    "options(repr.plot.height = 5, repr.plot.width = 8)\n",
    "plot <- ggplot(card_sample, aes(x = ap_lo, y = bmi, color = cardio)) + \n",
    "    geom_point() +\n",
    "    scale_x_continuous(limits = c(0,200)) +\n",
    "    theme(text = element_text(size = 20))\n",
    "plot"
   ]
  },
  {
   "cell_type": "code",
   "execution_count": null,
   "metadata": {},
   "outputs": [],
   "source": []
  },
  {
   "cell_type": "markdown",
   "metadata": {},
   "source": [
    "## Methods"
   ]
  },
  {
   "cell_type": "markdown",
   "metadata": {},
   "source": [
    "Methods:\n",
    "Explain how you will conduct either your data analysis and which variables/columns you will use. Note - you do not need to use all variables/columns that exist in the raw data set. In fact, that's often not a good idea. For each variable think: is this a useful variable for prediction?\n",
    "Describe at least one way that you will visualize the results"
   ]
  },
  {
   "cell_type": "markdown",
   "metadata": {},
   "source": [
    "## Expected outcomes and significance"
   ]
  },
  {
   "cell_type": "markdown",
   "metadata": {},
   "source": [
    "What do you expect to find?\n",
    "What impact could such findings have?\n",
    "What future questions could this lead to?"
   ]
  },
  {
   "cell_type": "code",
   "execution_count": null,
   "metadata": {},
   "outputs": [],
   "source": []
  }
 ],
 "metadata": {
  "kernelspec": {
   "display_name": "R",
   "language": "R",
   "name": "ir"
  },
  "language_info": {
   "codemirror_mode": "r",
   "file_extension": ".r",
   "mimetype": "text/x-r-source",
   "name": "R",
   "pygments_lexer": "r",
   "version": "4.0.0"
  }
 },
 "nbformat": 4,
 "nbformat_minor": 4
}
