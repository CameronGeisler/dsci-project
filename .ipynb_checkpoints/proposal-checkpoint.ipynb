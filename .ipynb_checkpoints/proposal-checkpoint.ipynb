{
 "cells": [
  {
   "cell_type": "code",
   "execution_count": 37,
   "metadata": {},
   "outputs": [],
   "source": [
    "library(tidyverse)\n",
    "library(repr)\n",
    "library(tidymodels)\n",
    "options(repr.matrix.max.rows = 6)"
   ]
  },
  {
   "cell_type": "code",
   "execution_count": 38,
   "metadata": {},
   "outputs": [
    {
     "name": "stderr",
     "output_type": "stream",
     "text": [
      "Parsed with column specification:\n",
      "cols(\n",
      "  round = \u001b[32mcol_double()\u001b[39m,\n",
      "  value = \u001b[32mcol_double()\u001b[39m,\n",
      "  daily_double = \u001b[31mcol_character()\u001b[39m,\n",
      "  category = \u001b[31mcol_character()\u001b[39m,\n",
      "  comments = \u001b[31mcol_character()\u001b[39m,\n",
      "  answer = \u001b[31mcol_character()\u001b[39m,\n",
      "  question = \u001b[31mcol_character()\u001b[39m,\n",
      "  air_date = \u001b[31mcol_character()\u001b[39m,\n",
      "  notes = \u001b[31mcol_character()\u001b[39m\n",
      ")\n",
      "\n"
     ]
    },
    {
     "data": {
      "text/html": [
       "<table>\n",
       "<caption>A spec_tbl_df: 389445 × 9</caption>\n",
       "<thead>\n",
       "\t<tr><th scope=col>round</th><th scope=col>value</th><th scope=col>daily_double</th><th scope=col>category</th><th scope=col>comments</th><th scope=col>answer</th><th scope=col>question</th><th scope=col>air_date</th><th scope=col>notes</th></tr>\n",
       "\t<tr><th scope=col>&lt;dbl&gt;</th><th scope=col>&lt;dbl&gt;</th><th scope=col>&lt;chr&gt;</th><th scope=col>&lt;chr&gt;</th><th scope=col>&lt;chr&gt;</th><th scope=col>&lt;chr&gt;</th><th scope=col>&lt;chr&gt;</th><th scope=col>&lt;chr&gt;</th><th scope=col>&lt;chr&gt;</th></tr>\n",
       "</thead>\n",
       "<tbody>\n",
       "\t<tr><td>1</td><td>100</td><td>no </td><td>LAKES &amp; RIVERS</td><td>-</td><td>River mentioned most often in the Bible</td><td><span style=white-space:pre-wrap>the Jordan     </span></td><td>9/10/1984</td><td>-</td></tr>\n",
       "\t<tr><td>1</td><td>200</td><td>no </td><td>LAKES &amp; RIVERS</td><td>-</td><td><span style=white-space:pre-wrap>Scottish word for lake                 </span></td><td><span style=white-space:pre-wrap>loch           </span></td><td>9/10/1984</td><td>-</td></tr>\n",
       "\t<tr><td>1</td><td>800</td><td>yes</td><td>LAKES &amp; RIVERS</td><td>-</td><td><span style=white-space:pre-wrap>River in this famous song:             </span></td><td>the Volga River</td><td>9/10/1984</td><td>-</td></tr>\n",
       "\t<tr><td>⋮</td><td>⋮</td><td>⋮</td><td>⋮</td><td>⋮</td><td>⋮</td><td>⋮</td><td>⋮</td><td>⋮</td></tr>\n",
       "\t<tr><td>2</td><td>1200</td><td>no</td><td>FOUNDRY                    </td><td>-</td><td>Several different foundries worked for 4 months to build this ironclad that faced off against the Merrimack      </td><td>Monitor                                                                  </td><td>8/13/2021</td><td>-</td></tr>\n",
       "\t<tr><td>2</td><td>1600</td><td>no</td><td>FOUNDRY                    </td><td>-</td><td>Once one of the largest of its kind, the Gary Works in Indiana is still a functioning foundry of this corporation</td><td>U.S. Steel                                                               </td><td>8/13/2021</td><td>-</td></tr>\n",
       "\t<tr><td>3</td><td>   0</td><td>no</td><td>19th CENTURY AMERICAN WOMEN</td><td>-</td><td>2 of the 3 women depicted on the first statue of real women in Central Park, unveiled in August 2020             </td><td>(2 of) (Sojourner) Truth, (Susan B.) Anthony, or (Elizabeth Cady) Stanton</td><td>8/13/2021</td><td>-</td></tr>\n",
       "</tbody>\n",
       "</table>\n"
      ],
      "text/latex": [
       "A spec\\_tbl\\_df: 389445 × 9\n",
       "\\begin{tabular}{lllllllll}\n",
       " round & value & daily\\_double & category & comments & answer & question & air\\_date & notes\\\\\n",
       " <dbl> & <dbl> & <chr> & <chr> & <chr> & <chr> & <chr> & <chr> & <chr>\\\\\n",
       "\\hline\n",
       "\t 1 & 100 & no  & LAKES \\& RIVERS & - & River mentioned most often in the Bible & the Jordan      & 9/10/1984 & -\\\\\n",
       "\t 1 & 200 & no  & LAKES \\& RIVERS & - & Scottish word for lake                  & loch            & 9/10/1984 & -\\\\\n",
       "\t 1 & 800 & yes & LAKES \\& RIVERS & - & River in this famous song:              & the Volga River & 9/10/1984 & -\\\\\n",
       "\t ⋮ & ⋮ & ⋮ & ⋮ & ⋮ & ⋮ & ⋮ & ⋮ & ⋮\\\\\n",
       "\t 2 & 1200 & no & FOUNDRY                     & - & Several different foundries worked for 4 months to build this ironclad that faced off against the Merrimack       & Monitor                                                                   & 8/13/2021 & -\\\\\n",
       "\t 2 & 1600 & no & FOUNDRY                     & - & Once one of the largest of its kind, the Gary Works in Indiana is still a functioning foundry of this corporation & U.S. Steel                                                                & 8/13/2021 & -\\\\\n",
       "\t 3 &    0 & no & 19th CENTURY AMERICAN WOMEN & - & 2 of the 3 women depicted on the first statue of real women in Central Park, unveiled in August 2020              & (2 of) (Sojourner) Truth, (Susan B.) Anthony, or (Elizabeth Cady) Stanton & 8/13/2021 & -\\\\\n",
       "\\end{tabular}\n"
      ],
      "text/markdown": [
       "\n",
       "A spec_tbl_df: 389445 × 9\n",
       "\n",
       "| round &lt;dbl&gt; | value &lt;dbl&gt; | daily_double &lt;chr&gt; | category &lt;chr&gt; | comments &lt;chr&gt; | answer &lt;chr&gt; | question &lt;chr&gt; | air_date &lt;chr&gt; | notes &lt;chr&gt; |\n",
       "|---|---|---|---|---|---|---|---|---|\n",
       "| 1 | 100 | no  | LAKES &amp; RIVERS | - | River mentioned most often in the Bible | the Jordan      | 9/10/1984 | - |\n",
       "| 1 | 200 | no  | LAKES &amp; RIVERS | - | Scottish word for lake                  | loch            | 9/10/1984 | - |\n",
       "| 1 | 800 | yes | LAKES &amp; RIVERS | - | River in this famous song:              | the Volga River | 9/10/1984 | - |\n",
       "| ⋮ | ⋮ | ⋮ | ⋮ | ⋮ | ⋮ | ⋮ | ⋮ | ⋮ |\n",
       "| 2 | 1200 | no | FOUNDRY                     | - | Several different foundries worked for 4 months to build this ironclad that faced off against the Merrimack       | Monitor                                                                   | 8/13/2021 | - |\n",
       "| 2 | 1600 | no | FOUNDRY                     | - | Once one of the largest of its kind, the Gary Works in Indiana is still a functioning foundry of this corporation | U.S. Steel                                                                | 8/13/2021 | - |\n",
       "| 3 |    0 | no | 19th CENTURY AMERICAN WOMEN | - | 2 of the 3 women depicted on the first statue of real women in Central Park, unveiled in August 2020              | (2 of) (Sojourner) Truth, (Susan B.) Anthony, or (Elizabeth Cady) Stanton | 8/13/2021 | - |\n",
       "\n"
      ],
      "text/plain": [
       "       round value daily_double category                    comments\n",
       "1      1     100   no           LAKES & RIVERS              -       \n",
       "2      1     200   no           LAKES & RIVERS              -       \n",
       "3      1     800   yes          LAKES & RIVERS              -       \n",
       "⋮      ⋮     ⋮     ⋮            ⋮                           ⋮       \n",
       "389443 2     1200  no           FOUNDRY                     -       \n",
       "389444 2     1600  no           FOUNDRY                     -       \n",
       "389445 3        0  no           19th CENTURY AMERICAN WOMEN -       \n",
       "       answer                                                                                                           \n",
       "1      River mentioned most often in the Bible                                                                          \n",
       "2      Scottish word for lake                                                                                           \n",
       "3      River in this famous song:                                                                                       \n",
       "⋮      ⋮                                                                                                                \n",
       "389443 Several different foundries worked for 4 months to build this ironclad that faced off against the Merrimack      \n",
       "389444 Once one of the largest of its kind, the Gary Works in Indiana is still a functioning foundry of this corporation\n",
       "389445 2 of the 3 women depicted on the first statue of real women in Central Park, unveiled in August 2020             \n",
       "       question                                                                 \n",
       "1      the Jordan                                                               \n",
       "2      loch                                                                     \n",
       "3      the Volga River                                                          \n",
       "⋮      ⋮                                                                        \n",
       "389443 Monitor                                                                  \n",
       "389444 U.S. Steel                                                               \n",
       "389445 (2 of) (Sojourner) Truth, (Susan B.) Anthony, or (Elizabeth Cady) Stanton\n",
       "       air_date  notes\n",
       "1      9/10/1984 -    \n",
       "2      9/10/1984 -    \n",
       "3      9/10/1984 -    \n",
       "⋮      ⋮         ⋮    \n",
       "389443 8/13/2021 -    \n",
       "389444 8/13/2021 -    \n",
       "389445 8/13/2021 -    "
      ]
     },
     "metadata": {},
     "output_type": "display_data"
    }
   ],
   "source": [
    "jeopardy_data <- read_tsv(\"jeopardy.tsv\")\n",
    "jeopardy_data"
   ]
  },
  {
   "cell_type": "code",
   "execution_count": 39,
   "metadata": {},
   "outputs": [
    {
     "data": {
      "text/html": [
       "<table>\n",
       "<caption>A spec_tbl_df: 370416 × 11</caption>\n",
       "<thead>\n",
       "\t<tr><th scope=col>round</th><th scope=col>value</th><th scope=col>daily_double</th><th scope=col>category</th><th scope=col>comments</th><th scope=col>answer</th><th scope=col>question</th><th scope=col>air_date</th><th scope=col>notes</th><th scope=col>ans_len</th><th scope=col>ques_len</th></tr>\n",
       "\t<tr><th scope=col>&lt;dbl&gt;</th><th scope=col>&lt;dbl&gt;</th><th scope=col>&lt;chr&gt;</th><th scope=col>&lt;chr&gt;</th><th scope=col>&lt;chr&gt;</th><th scope=col>&lt;chr&gt;</th><th scope=col>&lt;chr&gt;</th><th scope=col>&lt;chr&gt;</th><th scope=col>&lt;chr&gt;</th><th scope=col>&lt;int&gt;</th><th scope=col>&lt;int&gt;</th></tr>\n",
       "</thead>\n",
       "<tbody>\n",
       "\t<tr><td>1</td><td>100</td><td>no</td><td>LAKES &amp; RIVERS</td><td>-</td><td><span style=white-space:pre-wrap>River mentioned most often in the Bible                  </span></td><td><span style=white-space:pre-wrap>the Jordan  </span></td><td>9/10/1984</td><td>-</td><td>39</td><td>10</td></tr>\n",
       "\t<tr><td>1</td><td>200</td><td>no</td><td>LAKES &amp; RIVERS</td><td>-</td><td><span style=white-space:pre-wrap>Scottish word for lake                                   </span></td><td><span style=white-space:pre-wrap>loch        </span></td><td>9/10/1984</td><td>-</td><td>22</td><td> 4</td></tr>\n",
       "\t<tr><td>1</td><td>400</td><td>no</td><td>LAKES &amp; RIVERS</td><td>-</td><td>American river only 33 miles shorter than the Mississippi</td><td>the Missouri</td><td>9/10/1984</td><td>-</td><td>57</td><td>12</td></tr>\n",
       "\t<tr><td>⋮</td><td>⋮</td><td>⋮</td><td>⋮</td><td>⋮</td><td>⋮</td><td>⋮</td><td>⋮</td><td>⋮</td><td>⋮</td><td>⋮</td></tr>\n",
       "\t<tr><td>2</td><td>1200</td><td>no</td><td>FOUNDRY                    </td><td>-</td><td>Several different foundries worked for 4 months to build this ironclad that faced off against the Merrimack      </td><td>Monitor                                                                  </td><td>8/13/2021</td><td>-</td><td>107</td><td> 7</td></tr>\n",
       "\t<tr><td>2</td><td>1600</td><td>no</td><td>FOUNDRY                    </td><td>-</td><td>Once one of the largest of its kind, the Gary Works in Indiana is still a functioning foundry of this corporation</td><td>U.S. Steel                                                               </td><td>8/13/2021</td><td>-</td><td>113</td><td>10</td></tr>\n",
       "\t<tr><td>3</td><td>   0</td><td>no</td><td>19th CENTURY AMERICAN WOMEN</td><td>-</td><td>2 of the 3 women depicted on the first statue of real women in Central Park, unveiled in August 2020             </td><td>(2 of) (Sojourner) Truth, (Susan B.) Anthony, or (Elizabeth Cady) Stanton</td><td>8/13/2021</td><td>-</td><td>100</td><td>73</td></tr>\n",
       "</tbody>\n",
       "</table>\n"
      ],
      "text/latex": [
       "A spec\\_tbl\\_df: 370416 × 11\n",
       "\\begin{tabular}{lllllllllll}\n",
       " round & value & daily\\_double & category & comments & answer & question & air\\_date & notes & ans\\_len & ques\\_len\\\\\n",
       " <dbl> & <dbl> & <chr> & <chr> & <chr> & <chr> & <chr> & <chr> & <chr> & <int> & <int>\\\\\n",
       "\\hline\n",
       "\t 1 & 100 & no & LAKES \\& RIVERS & - & River mentioned most often in the Bible                   & the Jordan   & 9/10/1984 & - & 39 & 10\\\\\n",
       "\t 1 & 200 & no & LAKES \\& RIVERS & - & Scottish word for lake                                    & loch         & 9/10/1984 & - & 22 &  4\\\\\n",
       "\t 1 & 400 & no & LAKES \\& RIVERS & - & American river only 33 miles shorter than the Mississippi & the Missouri & 9/10/1984 & - & 57 & 12\\\\\n",
       "\t ⋮ & ⋮ & ⋮ & ⋮ & ⋮ & ⋮ & ⋮ & ⋮ & ⋮ & ⋮ & ⋮\\\\\n",
       "\t 2 & 1200 & no & FOUNDRY                     & - & Several different foundries worked for 4 months to build this ironclad that faced off against the Merrimack       & Monitor                                                                   & 8/13/2021 & - & 107 &  7\\\\\n",
       "\t 2 & 1600 & no & FOUNDRY                     & - & Once one of the largest of its kind, the Gary Works in Indiana is still a functioning foundry of this corporation & U.S. Steel                                                                & 8/13/2021 & - & 113 & 10\\\\\n",
       "\t 3 &    0 & no & 19th CENTURY AMERICAN WOMEN & - & 2 of the 3 women depicted on the first statue of real women in Central Park, unveiled in August 2020              & (2 of) (Sojourner) Truth, (Susan B.) Anthony, or (Elizabeth Cady) Stanton & 8/13/2021 & - & 100 & 73\\\\\n",
       "\\end{tabular}\n"
      ],
      "text/markdown": [
       "\n",
       "A spec_tbl_df: 370416 × 11\n",
       "\n",
       "| round &lt;dbl&gt; | value &lt;dbl&gt; | daily_double &lt;chr&gt; | category &lt;chr&gt; | comments &lt;chr&gt; | answer &lt;chr&gt; | question &lt;chr&gt; | air_date &lt;chr&gt; | notes &lt;chr&gt; | ans_len &lt;int&gt; | ques_len &lt;int&gt; |\n",
       "|---|---|---|---|---|---|---|---|---|---|---|\n",
       "| 1 | 100 | no | LAKES &amp; RIVERS | - | River mentioned most often in the Bible                   | the Jordan   | 9/10/1984 | - | 39 | 10 |\n",
       "| 1 | 200 | no | LAKES &amp; RIVERS | - | Scottish word for lake                                    | loch         | 9/10/1984 | - | 22 |  4 |\n",
       "| 1 | 400 | no | LAKES &amp; RIVERS | - | American river only 33 miles shorter than the Mississippi | the Missouri | 9/10/1984 | - | 57 | 12 |\n",
       "| ⋮ | ⋮ | ⋮ | ⋮ | ⋮ | ⋮ | ⋮ | ⋮ | ⋮ | ⋮ | ⋮ |\n",
       "| 2 | 1200 | no | FOUNDRY                     | - | Several different foundries worked for 4 months to build this ironclad that faced off against the Merrimack       | Monitor                                                                   | 8/13/2021 | - | 107 |  7 |\n",
       "| 2 | 1600 | no | FOUNDRY                     | - | Once one of the largest of its kind, the Gary Works in Indiana is still a functioning foundry of this corporation | U.S. Steel                                                                | 8/13/2021 | - | 113 | 10 |\n",
       "| 3 |    0 | no | 19th CENTURY AMERICAN WOMEN | - | 2 of the 3 women depicted on the first statue of real women in Central Park, unveiled in August 2020              | (2 of) (Sojourner) Truth, (Susan B.) Anthony, or (Elizabeth Cady) Stanton | 8/13/2021 | - | 100 | 73 |\n",
       "\n"
      ],
      "text/plain": [
       "       round value daily_double category                    comments\n",
       "1      1     100   no           LAKES & RIVERS              -       \n",
       "2      1     200   no           LAKES & RIVERS              -       \n",
       "3      1     400   no           LAKES & RIVERS              -       \n",
       "⋮      ⋮     ⋮     ⋮            ⋮                           ⋮       \n",
       "370414 2     1200  no           FOUNDRY                     -       \n",
       "370415 2     1600  no           FOUNDRY                     -       \n",
       "370416 3        0  no           19th CENTURY AMERICAN WOMEN -       \n",
       "       answer                                                                                                           \n",
       "1      River mentioned most often in the Bible                                                                          \n",
       "2      Scottish word for lake                                                                                           \n",
       "3      American river only 33 miles shorter than the Mississippi                                                        \n",
       "⋮      ⋮                                                                                                                \n",
       "370414 Several different foundries worked for 4 months to build this ironclad that faced off against the Merrimack      \n",
       "370415 Once one of the largest of its kind, the Gary Works in Indiana is still a functioning foundry of this corporation\n",
       "370416 2 of the 3 women depicted on the first statue of real women in Central Park, unveiled in August 2020             \n",
       "       question                                                                 \n",
       "1      the Jordan                                                               \n",
       "2      loch                                                                     \n",
       "3      the Missouri                                                             \n",
       "⋮      ⋮                                                                        \n",
       "370414 Monitor                                                                  \n",
       "370415 U.S. Steel                                                               \n",
       "370416 (2 of) (Sojourner) Truth, (Susan B.) Anthony, or (Elizabeth Cady) Stanton\n",
       "       air_date  notes ans_len ques_len\n",
       "1      9/10/1984 -     39      10      \n",
       "2      9/10/1984 -     22       4      \n",
       "3      9/10/1984 -     57      12      \n",
       "⋮      ⋮         ⋮     ⋮       ⋮       \n",
       "370414 8/13/2021 -     107      7      \n",
       "370415 8/13/2021 -     113     10      \n",
       "370416 8/13/2021 -     100     73      "
      ]
     },
     "metadata": {},
     "output_type": "display_data"
    },
    {
     "data": {
      "text/html": [
       "370416"
      ],
      "text/latex": [
       "370416"
      ],
      "text/markdown": [
       "370416"
      ],
      "text/plain": [
       "[1] 370416"
      ]
     },
     "metadata": {},
     "output_type": "display_data"
    }
   ],
   "source": [
    "jeopardy_data <- jeopardy_data %>%\n",
    "    mutate(ans_len = nchar(answer), ques_len = nchar(question)) %>%\n",
    "    filter(daily_double == \"no\") \n",
    "# %>%\n",
    "#     filter(round == 1) %>%\n",
    "#     slice(50000:n())\n",
    "jeopardy_data\n",
    "nrow(jeopardy_data)"
   ]
  },
  {
   "cell_type": "code",
   "execution_count": 40,
   "metadata": {},
   "outputs": [
    {
     "ename": "ERROR",
     "evalue": "Error in parse(text = x, srcfile = src): <text>:7:1: unexpected symbol\n6:     scale_x_continuous(limits = c(0,100))\n7: jeop_plot\n   ^\n",
     "output_type": "error",
     "traceback": [
      "Error in parse(text = x, srcfile = src): <text>:7:1: unexpected symbol\n6:     scale_x_continuous(limits = c(0,100))\n7: jeop_plot\n   ^\nTraceback:\n"
     ]
    }
   ],
   "source": [
    "options(repr.plot.width = 15, repr.plot.height = 8) # you can change the plot size \n",
    "\n",
    "jeop_plot <- ggplot(jeopardy_data, aes(x = ques_len, y = ans_len) + \n",
    "    geom_point(alpha = 0.05) +\n",
    "    labs(x = \"Question Length (characters)\", y = \"Answer Length (characters)\") +\n",
    "    scale_x_continuous(limits = c(0,100))\n",
    "jeop_plot"
   ]
  },
  {
   "cell_type": "code",
   "execution_count": null,
   "metadata": {},
   "outputs": [],
   "source": [
    "# knn_spec <- nearest_neighbor(weight_func = \"rectangular\", neighbors = 7) %>%\n",
    "#       set_engine(\"kknn\") %>%\n",
    "#       set_mode(\"classification\")\n",
    "\n",
    "# jeop_fit <- knn_spec %>% \n",
    "#        fit(value ~ ans_len + ques_len, data = jeopardy_data)\n",
    "\n",
    "# jeop_recipe"
   ]
  },
  {
   "cell_type": "code",
   "execution_count": null,
   "metadata": {},
   "outputs": [],
   "source": []
  },
  {
   "cell_type": "code",
   "execution_count": null,
   "metadata": {},
   "outputs": [],
   "source": []
  }
 ],
 "metadata": {
  "kernelspec": {
   "display_name": "R",
   "language": "R",
   "name": "ir"
  },
  "language_info": {
   "codemirror_mode": "r",
   "file_extension": ".r",
   "mimetype": "text/x-r-source",
   "name": "R",
   "pygments_lexer": "r",
   "version": "4.0.0"
  }
 },
 "nbformat": 4,
 "nbformat_minor": 4
}
